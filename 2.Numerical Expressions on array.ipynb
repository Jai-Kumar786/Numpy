{
 "cells": [
  {
   "cell_type": "code",
   "id": "initial_id",
   "metadata": {
    "collapsed": true,
    "ExecuteTime": {
     "end_time": "2025-03-23T08:40:05.232063Z",
     "start_time": "2025-03-23T08:40:05.070760Z"
    }
   },
   "source": "import numpy as np",
   "outputs": [],
   "execution_count": 1
  },
  {
   "metadata": {},
   "cell_type": "markdown",
   "source": "# Elementwise Operations",
   "id": "ad286d2403d3aa47"
  },
  {
   "metadata": {},
   "cell_type": "markdown",
   "source": "**1. Basic Operations**",
   "id": "9c3fea724ec44fa5"
  },
  {
   "metadata": {},
   "cell_type": "markdown",
   "source": "**with scalars**",
   "id": "c1ca99c1d00d784"
  },
  {
   "metadata": {
    "ExecuteTime": {
     "end_time": "2025-03-23T08:41:16.470927Z",
     "start_time": "2025-03-23T08:41:16.459762Z"
    }
   },
   "cell_type": "code",
   "source": [
    "a = np.array([1, 2, 3, 4]) #create an array\n",
    "\n",
    "a + 1"
   ],
   "id": "1d80005d73865002",
   "outputs": [
    {
     "data": {
      "text/plain": [
       "array([2, 3, 4, 5])"
      ]
     },
     "execution_count": 2,
     "metadata": {},
     "output_type": "execute_result"
    }
   ],
   "execution_count": 2
  },
  {
   "metadata": {
    "ExecuteTime": {
     "end_time": "2025-03-23T08:41:33.361232Z",
     "start_time": "2025-03-23T08:41:33.354410Z"
    }
   },
   "cell_type": "code",
   "source": "a ** 2",
   "id": "92dac8d633eba16f",
   "outputs": [
    {
     "data": {
      "text/plain": [
       "array([ 1,  4,  9, 16])"
      ]
     },
     "execution_count": 3,
     "metadata": {},
     "output_type": "execute_result"
    }
   ],
   "execution_count": 3
  },
  {
   "metadata": {},
   "cell_type": "markdown",
   "source": "**All arithmetic operates elementwise**",
   "id": "7ee3dce259472618"
  },
  {
   "metadata": {
    "ExecuteTime": {
     "end_time": "2025-03-23T08:57:02.112875Z",
     "start_time": "2025-03-23T08:57:02.103144Z"
    }
   },
   "cell_type": "code",
   "source": [
    "b = np.ones(4) + 1\n",
    "\n",
    "a - b"
   ],
   "id": "9dfae02fd1699f8e",
   "outputs": [
    {
     "data": {
      "text/plain": [
       "array([-1.,  0.,  1.,  2.])"
      ]
     },
     "execution_count": 4,
     "metadata": {},
     "output_type": "execute_result"
    }
   ],
   "execution_count": 4
  },
  {
   "metadata": {
    "ExecuteTime": {
     "end_time": "2025-03-23T08:58:34.277643Z",
     "start_time": "2025-03-23T08:58:34.271790Z"
    }
   },
   "cell_type": "code",
   "source": [
    "# Matrix multiplication\n",
    "\n",
    "c = np.diag([1, 2, 3, 4])\n",
    "\n",
    "print(c * c)\n",
    "print(\"*****************\")\n",
    "print(c.dot(c))"
   ],
   "id": "aca8ec94a4425689",
   "outputs": [
    {
     "name": "stdout",
     "output_type": "stream",
     "text": [
      "[[ 1  0  0  0]\n",
      " [ 0  4  0  0]\n",
      " [ 0  0  9  0]\n",
      " [ 0  0  0 16]]\n",
      "*****************\n",
      "[[ 1  0  0  0]\n",
      " [ 0  4  0  0]\n",
      " [ 0  0  9  0]\n",
      " [ 0  0  0 16]]\n"
     ]
    }
   ],
   "execution_count": 5
  },
  {
   "metadata": {
    "ExecuteTime": {
     "end_time": "2025-03-23T09:03:43.759379Z",
     "start_time": "2025-03-23T09:03:43.752501Z"
    }
   },
   "cell_type": "code",
   "source": [
    "# Dot Product\n",
    "np.dot(a, b)  \n",
    "\n",
    "\n",
    "\n"
   ],
   "id": "29a4c6708dbc29a2",
   "outputs": [
    {
     "data": {
      "text/plain": [
       "20.0"
      ]
     },
     "execution_count": 10,
     "metadata": {},
     "output_type": "execute_result"
    }
   ],
   "execution_count": 10
  },
  {
   "metadata": {
    "ExecuteTime": {
     "end_time": "2025-03-23T09:04:18.314857Z",
     "start_time": "2025-03-23T09:04:18.308654Z"
    }
   },
   "cell_type": "code",
   "source": [
    "# Elementwise Multiplication\n",
    "a * b  "
   ],
   "id": "17782ad4e27192e5",
   "outputs": [
    {
     "data": {
      "text/plain": [
       "array([2., 4., 6., 8.])"
      ]
     },
     "execution_count": 11,
     "metadata": {},
     "output_type": "execute_result"
    }
   ],
   "execution_count": 11
  },
  {
   "metadata": {
    "ExecuteTime": {
     "end_time": "2025-03-23T09:08:00.313694Z",
     "start_time": "2025-03-23T09:08:00.306271Z"
    }
   },
   "cell_type": "code",
   "source": [
    "# Matrix Multiplication (for 2D arrays)\n",
    "A = np.array([[1, 2], [3, 4]])\n",
    "B = np.array([[5, 6], [7, 8]])\n",
    "\n",
    "\n",
    "np.matmul(A, B)  "
   ],
   "id": "83b4a6fe97c8c99",
   "outputs": [
    {
     "data": {
      "text/plain": [
       "array([[19, 22],\n",
       "       [43, 50]])"
      ]
     },
     "execution_count": 12,
     "metadata": {},
     "output_type": "execute_result"
    }
   ],
   "execution_count": 12
  },
  {
   "metadata": {},
   "cell_type": "markdown",
   "source": [
    "What Are Inner Dimensions in Matrix Multiplication?\n",
    "In matrix multiplication, the inner dimensions refer to the number of columns in the first matrix and the number of rows in the second matrix.\n",
    "\n",
    "For two matrices A and B:\n",
    "\n",
    "A has shape \n",
    "(\n",
    "𝑚\n",
    "×\n",
    "𝑛\n",
    ")\n",
    "(m×n) → \n",
    "𝑚\n",
    "m rows, \n",
    "𝑛\n",
    "n columns\n",
    "\n",
    "B has shape \n",
    "(\n",
    "𝑝\n",
    "×\n",
    "𝑞\n",
    ")\n",
    "(p×q) → \n",
    "𝑝\n",
    "p rows, \n",
    "𝑞\n",
    "q columns\n",
    "\n",
    "For matrix multiplication to be valid, the inner dimensions must be equal:\n",
    "\n",
    "(\n",
    "𝑚\n",
    "×\n",
    "𝑛\n",
    ")\n",
    "@\n",
    "(\n",
    "𝑛\n",
    "×\n",
    "𝑞\n",
    ")\n",
    "=\n",
    "(\n",
    "𝑚\n",
    "×\n",
    "𝑞\n",
    ")\n",
    "(m×n)@(n×q)=(m×q)\n",
    "If \n",
    "𝑛\n",
    "≠\n",
    "𝑝\n",
    "n\n",
    "\n",
    "=p, the multiplication is not possible."
   ],
   "id": "f230c22857b3866f"
  },
  {
   "metadata": {},
   "cell_type": "markdown",
   "source": [
    "To multiply a \n",
    "2\n",
    "×\n",
    "3\n",
    "2×3 matrix with a \n",
    "3\n",
    "×\n",
    "4\n",
    "3×4 matrix, we use matrix multiplication, which is performed using np.matmul() or the @ operator in NumPy.\n",
    "\n",
    "Matrix Dimensions:\n",
    "Let A be a \n",
    "2\n",
    "×\n",
    "3\n",
    "2×3 matrix.\n",
    "\n",
    "Let B be a \n",
    "3\n",
    "×\n",
    "4\n",
    "3×4 matrix.\n",
    "\n",
    "The result will be a \n",
    "2\n",
    "×\n",
    "4\n",
    "2×4 matrix because the inner dimensions (3) match."
   ],
   "id": "89ee73edb2b205de"
  },
  {
   "metadata": {
    "ExecuteTime": {
     "end_time": "2025-03-23T09:08:50.195469Z",
     "start_time": "2025-03-23T09:08:50.188357Z"
    }
   },
   "cell_type": "code",
   "source": [
    "import numpy as np\n",
    "\n",
    "# 2x3 Matrix\n",
    "A = np.array([\n",
    "    [1, 2, 3],\n",
    "    [4, 5, 6]\n",
    "])\n",
    "\n",
    "# 3x4 Matrix\n",
    "B = np.array([\n",
    "    [7, 8, 9, 10],\n",
    "    [11, 12, 13, 14],\n",
    "    [15, 16, 17, 18]\n",
    "])\n",
    "\n",
    "# Matrix multiplication (result will be 2x4)\n",
    "C = np.matmul(A, B)  # or A @ B\n",
    "print(C)"
   ],
   "id": "7446808fbeaa0dc2",
   "outputs": [
    {
     "name": "stdout",
     "output_type": "stream",
     "text": [
      "[[ 74  80  86  92]\n",
      " [173 188 203 218]]\n"
     ]
    }
   ],
   "execution_count": 13
  },
  {
   "metadata": {},
   "cell_type": "markdown",
   "source": "If the inner dimensions do not match, matrix multiplication is not possible in NumPy, and you'll get an error.",
   "id": "c4e0ec8d401ae3a5"
  },
  {
   "metadata": {},
   "cell_type": "markdown",
   "source": [
    "Example of Mismatched Dimensions\n",
    "If you try to multiply a \n",
    "2\n",
    "×\n",
    "3\n",
    "2×3 matrix with another \n",
    "2\n",
    "×\n",
    "4\n",
    "2×4 matrix:"
   ],
   "id": "29ac135a58a4e6df"
  },
  {
   "metadata": {
    "ExecuteTime": {
     "end_time": "2025-03-23T09:18:22.964277Z",
     "start_time": "2025-03-23T09:18:22.938353Z"
    }
   },
   "cell_type": "code",
   "source": [
    "import numpy as np\n",
    "\n",
    "A = np.array([\n",
    "    [1, 2, 3],\n",
    "    [4, 5, 6]\n",
    "])  # 2x3 matrix\n",
    "\n",
    "B = np.array([\n",
    "    [7, 8, 9, 10],\n",
    "    [11, 12, 13, 14]\n",
    "])  # 2x4 matrix\n",
    "\n",
    "# This will cause an error!\n",
    "C = np.matmul(A, B)  # or A @ B\n"
   ],
   "id": "d1edb60b31c0908",
   "outputs": [
    {
     "ename": "ValueError",
     "evalue": "matmul: Input operand 1 has a mismatch in its core dimension 0, with gufunc signature (n?,k),(k,m?)->(n?,m?) (size 2 is different from 3)",
     "output_type": "error",
     "traceback": [
      "\u001B[1;31m---------------------------------------------------------------------------\u001B[0m",
      "\u001B[1;31mValueError\u001B[0m                                Traceback (most recent call last)",
      "Cell \u001B[1;32mIn[28], line 14\u001B[0m\n\u001B[0;32m      8\u001B[0m B \u001B[38;5;241m=\u001B[39m np\u001B[38;5;241m.\u001B[39marray([\n\u001B[0;32m      9\u001B[0m     [\u001B[38;5;241m7\u001B[39m, \u001B[38;5;241m8\u001B[39m, \u001B[38;5;241m9\u001B[39m, \u001B[38;5;241m10\u001B[39m],\n\u001B[0;32m     10\u001B[0m     [\u001B[38;5;241m11\u001B[39m, \u001B[38;5;241m12\u001B[39m, \u001B[38;5;241m13\u001B[39m, \u001B[38;5;241m14\u001B[39m]\n\u001B[0;32m     11\u001B[0m ])  \u001B[38;5;66;03m# 2x4 matrix\u001B[39;00m\n\u001B[0;32m     13\u001B[0m \u001B[38;5;66;03m# This will cause an error!\u001B[39;00m\n\u001B[1;32m---> 14\u001B[0m C \u001B[38;5;241m=\u001B[39m np\u001B[38;5;241m.\u001B[39mmatmul(A, B)\n",
      "\u001B[1;31mValueError\u001B[0m: matmul: Input operand 1 has a mismatch in its core dimension 0, with gufunc signature (n?,k),(k,m?)->(n?,m?) (size 2 is different from 3)"
     ]
    }
   ],
   "execution_count": 28
  },
  {
   "metadata": {},
   "cell_type": "markdown",
   "source": [
    "Possible Fixes\n",
    "If you want to multiply these matrices, you have a option:"
   ],
   "id": "c0d6d847e4de4400"
  },
  {
   "metadata": {},
   "cell_type": "markdown",
   "source": [
    "1. Transpose A to Match the Dimensions\n",
    "If possible, transpose A (A.T) to make its dimensions match:"
   ],
   "id": "df84c28d972b56c6"
  },
  {
   "metadata": {
    "ExecuteTime": {
     "end_time": "2025-03-23T09:26:12.641120Z",
     "start_time": "2025-03-23T09:26:12.634365Z"
    }
   },
   "cell_type": "code",
   "source": [
    "A = np.array([\n",
    "    [1, 2, 3],\n",
    "    [4, 5, 6]\n",
    "])  # 2x3 matrix\n",
    "\n",
    "B = np.array([\n",
    "    [7, 8, 9, 10],\n",
    "    [11, 12, 13, 14]\n",
    "])  # 2x4 matrix\n",
    "C = np.matmul(A.T, B)  # (3x2) @ (2x4) = (3x4)\n",
    "\n",
    "print(C)"
   ],
   "id": "c18b20a51b9ac916",
   "outputs": [
    {
     "name": "stdout",
     "output_type": "stream",
     "text": [
      "[[ 51  56  61  66]\n",
      " [ 69  76  83  90]\n",
      " [ 87  96 105 114]]\n"
     ]
    }
   ],
   "execution_count": 37
  },
  {
   "metadata": {},
   "cell_type": "markdown",
   "source": "**comparisions**",
   "id": "8d555015723948fa"
  },
  {
   "metadata": {
    "ExecuteTime": {
     "end_time": "2025-03-23T09:32:06.321218Z",
     "start_time": "2025-03-23T09:32:06.312626Z"
    }
   },
   "cell_type": "code",
   "source": [
    "a = np.array([1, 2, 3, 4])\n",
    "b = np.array([5, 2, 2, 4])\n",
    "a == b"
   ],
   "id": "4930a5cce9328aac",
   "outputs": [
    {
     "data": {
      "text/plain": [
       "array([False,  True, False,  True])"
      ]
     },
     "execution_count": 39,
     "metadata": {},
     "output_type": "execute_result"
    }
   ],
   "execution_count": 39
  },
  {
   "metadata": {
    "ExecuteTime": {
     "end_time": "2025-03-23T09:32:16.718276Z",
     "start_time": "2025-03-23T09:32:16.711649Z"
    }
   },
   "cell_type": "code",
   "source": "a > b",
   "id": "16fb91d73ad04f11",
   "outputs": [
    {
     "data": {
      "text/plain": [
       "array([False, False,  True, False])"
      ]
     },
     "execution_count": 40,
     "metadata": {},
     "output_type": "execute_result"
    }
   ],
   "execution_count": 40
  },
  {
   "metadata": {
    "ExecuteTime": {
     "end_time": "2025-03-23T09:32:26.672340Z",
     "start_time": "2025-03-23T09:32:26.665528Z"
    }
   },
   "cell_type": "code",
   "source": [
    "#array-wise comparisions\n",
    "a = np.array([1, 2, 3, 4])\n",
    "b = np.array([5, 2, 2, 4])\n",
    "c = np.array([1, 2, 3, 4])\n",
    "\n",
    "np.array_equal(a, b)"
   ],
   "id": "cfbb390dc7279245",
   "outputs": [
    {
     "data": {
      "text/plain": [
       "False"
      ]
     },
     "execution_count": 41,
     "metadata": {},
     "output_type": "execute_result"
    }
   ],
   "execution_count": 41
  },
  {
   "metadata": {
    "ExecuteTime": {
     "end_time": "2025-03-23T09:32:36.123921Z",
     "start_time": "2025-03-23T09:32:36.117473Z"
    }
   },
   "cell_type": "code",
   "source": "np.array_equal(a, c)",
   "id": "2fe3acdd9599d757",
   "outputs": [
    {
     "data": {
      "text/plain": [
       "True"
      ]
     },
     "execution_count": 42,
     "metadata": {},
     "output_type": "execute_result"
    }
   ],
   "execution_count": 42
  },
  {
   "metadata": {},
   "cell_type": "markdown",
   "source": "**Logical Operations**",
   "id": "85a51bd04e9042f3"
  },
  {
   "metadata": {
    "ExecuteTime": {
     "end_time": "2025-03-23T09:33:02.825562Z",
     "start_time": "2025-03-23T09:33:02.818558Z"
    }
   },
   "cell_type": "code",
   "source": [
    "a = np.array([1, 1, 0, 0], dtype=bool)\n",
    "b = np.array([1, 0, 1, 0], dtype=bool)\n",
    "\n",
    "np.logical_or(a, b)"
   ],
   "id": "28187eb2c7039e44",
   "outputs": [
    {
     "data": {
      "text/plain": [
       "array([ True,  True,  True, False])"
      ]
     },
     "execution_count": 43,
     "metadata": {},
     "output_type": "execute_result"
    }
   ],
   "execution_count": 43
  },
  {
   "metadata": {
    "ExecuteTime": {
     "end_time": "2025-03-23T09:33:12.408124Z",
     "start_time": "2025-03-23T09:33:12.400917Z"
    }
   },
   "cell_type": "code",
   "source": "np.logical_and(a, b)",
   "id": "8fa8c0543d0694e3",
   "outputs": [
    {
     "data": {
      "text/plain": [
       "array([ True, False, False, False])"
      ]
     },
     "execution_count": 44,
     "metadata": {},
     "output_type": "execute_result"
    }
   ],
   "execution_count": 44
  },
  {
   "metadata": {},
   "cell_type": "markdown",
   "source": "**Transcendental functions:**",
   "id": "ad09874bc1568c8"
  },
  {
   "metadata": {
    "ExecuteTime": {
     "end_time": "2025-03-23T09:33:50.970210Z",
     "start_time": "2025-03-23T09:33:50.963309Z"
    }
   },
   "cell_type": "code",
   "source": [
    "a = np.arange(5)\n",
    "\n",
    "np.sin(a)   "
   ],
   "id": "1ae790999225c10",
   "outputs": [
    {
     "data": {
      "text/plain": [
       "array([ 0.        ,  0.84147098,  0.90929743,  0.14112001, -0.7568025 ])"
      ]
     },
     "execution_count": 45,
     "metadata": {},
     "output_type": "execute_result"
    }
   ],
   "execution_count": 45
  },
  {
   "metadata": {
    "ExecuteTime": {
     "end_time": "2025-03-23T09:34:01.325368Z",
     "start_time": "2025-03-23T09:34:01.316841Z"
    }
   },
   "cell_type": "code",
   "source": "np.log(a)",
   "id": "51528e998a6c68b",
   "outputs": [
    {
     "name": "stderr",
     "output_type": "stream",
     "text": [
      "C:\\Users\\jaiku\\AppData\\Local\\Temp\\ipykernel_23124\\2987416308.py:1: RuntimeWarning: divide by zero encountered in log\n",
      "  np.log(a)\n"
     ]
    },
    {
     "data": {
      "text/plain": [
       "array([      -inf, 0.        , 0.69314718, 1.09861229, 1.38629436])"
      ]
     },
     "execution_count": 46,
     "metadata": {},
     "output_type": "execute_result"
    }
   ],
   "execution_count": 46
  },
  {
   "metadata": {
    "ExecuteTime": {
     "end_time": "2025-03-23T09:34:22.063683Z",
     "start_time": "2025-03-23T09:34:22.056568Z"
    }
   },
   "cell_type": "code",
   "source": "np.exp(a)   #evaluates e^x for each element in a given input",
   "id": "12148a030b89c91f",
   "outputs": [
    {
     "data": {
      "text/plain": [
       "array([ 1.        ,  2.71828183,  7.3890561 , 20.08553692, 54.59815003])"
      ]
     },
     "execution_count": 47,
     "metadata": {},
     "output_type": "execute_result"
    }
   ],
   "execution_count": 47
  },
  {
   "metadata": {},
   "cell_type": "markdown",
   "source": "**Shape Mismatch**",
   "id": "cbf858b9e6ec2b0e"
  },
  {
   "metadata": {
    "ExecuteTime": {
     "end_time": "2025-03-23T09:34:48.411121Z",
     "start_time": "2025-03-23T09:34:48.389277Z"
    }
   },
   "cell_type": "code",
   "source": [
    "a = np.arange(4)\n",
    "\n",
    "a + np.array([1, 2])"
   ],
   "id": "cd67382771ea67df",
   "outputs": [
    {
     "ename": "ValueError",
     "evalue": "operands could not be broadcast together with shapes (4,) (2,) ",
     "output_type": "error",
     "traceback": [
      "\u001B[1;31m---------------------------------------------------------------------------\u001B[0m",
      "\u001B[1;31mValueError\u001B[0m                                Traceback (most recent call last)",
      "Cell \u001B[1;32mIn[48], line 3\u001B[0m\n\u001B[0;32m      1\u001B[0m a \u001B[38;5;241m=\u001B[39m np\u001B[38;5;241m.\u001B[39marange(\u001B[38;5;241m4\u001B[39m)\n\u001B[1;32m----> 3\u001B[0m a \u001B[38;5;241m+\u001B[39m np\u001B[38;5;241m.\u001B[39marray([\u001B[38;5;241m1\u001B[39m, \u001B[38;5;241m2\u001B[39m])\n",
      "\u001B[1;31mValueError\u001B[0m: operands could not be broadcast together with shapes (4,) (2,) "
     ]
    }
   ],
   "execution_count": 48
  },
  {
   "metadata": {},
   "cell_type": "markdown",
   "source": "# Basic Reductions",
   "id": "803af2a4fc7b5096"
  },
  {
   "metadata": {},
   "cell_type": "markdown",
   "source": "**computing sums**",
   "id": "7021490c0ceb9e2b"
  },
  {
   "metadata": {
    "ExecuteTime": {
     "end_time": "2025-03-23T09:41:15.745157Z",
     "start_time": "2025-03-23T09:41:15.737833Z"
    }
   },
   "cell_type": "code",
   "source": [
    "x = np.array([1, 2, 3, 4])\n",
    "np.sum(x)"
   ],
   "id": "6e7a1342de27cec1",
   "outputs": [
    {
     "data": {
      "text/plain": [
       "10"
      ]
     },
     "execution_count": 49,
     "metadata": {},
     "output_type": "execute_result"
    }
   ],
   "execution_count": 49
  },
  {
   "metadata": {
    "ExecuteTime": {
     "end_time": "2025-03-23T09:41:49.656010Z",
     "start_time": "2025-03-23T09:41:49.648471Z"
    }
   },
   "cell_type": "code",
   "source": [
    "\n",
    "\n",
    "x = np.array([[1, 1], [2, 2]])\n",
    "x"
   ],
   "id": "85ae092b2bc54621",
   "outputs": [
    {
     "data": {
      "text/plain": [
       "array([[1, 1],\n",
       "       [2, 2]])"
      ]
     },
     "execution_count": 50,
     "metadata": {},
     "output_type": "execute_result"
    }
   ],
   "execution_count": 50
  },
  {
   "metadata": {
    "ExecuteTime": {
     "end_time": "2025-03-23T09:42:13.928756Z",
     "start_time": "2025-03-23T09:42:13.921817Z"
    }
   },
   "cell_type": "code",
   "source": "x.sum(axis=0)   #columns first dimension",
   "id": "d551b7134c603129",
   "outputs": [
    {
     "data": {
      "text/plain": [
       "array([3, 3])"
      ]
     },
     "execution_count": 51,
     "metadata": {},
     "output_type": "execute_result"
    }
   ],
   "execution_count": 51
  },
  {
   "metadata": {
    "ExecuteTime": {
     "end_time": "2025-03-23T09:42:22.370908Z",
     "start_time": "2025-03-23T09:42:22.363683Z"
    }
   },
   "cell_type": "code",
   "source": "x.sum(axis=1)  #rows (second dimension)",
   "id": "3598ad3c98528ab1",
   "outputs": [
    {
     "data": {
      "text/plain": [
       "array([2, 4])"
      ]
     },
     "execution_count": 52,
     "metadata": {},
     "output_type": "execute_result"
    }
   ],
   "execution_count": 52
  },
  {
   "metadata": {},
   "cell_type": "markdown",
   "source": "**Other reductions**",
   "id": "5da9e301027f7cb0"
  },
  {
   "metadata": {
    "ExecuteTime": {
     "end_time": "2025-03-23T09:42:49.467761Z",
     "start_time": "2025-03-23T09:42:49.461318Z"
    }
   },
   "cell_type": "code",
   "source": [
    "x = np.array([1, 3, 2])\n",
    "x.min()"
   ],
   "id": "875381b1b7e8ac0a",
   "outputs": [
    {
     "data": {
      "text/plain": [
       "1"
      ]
     },
     "execution_count": 53,
     "metadata": {},
     "output_type": "execute_result"
    }
   ],
   "execution_count": 53
  },
  {
   "metadata": {
    "ExecuteTime": {
     "end_time": "2025-03-23T09:42:58.789101Z",
     "start_time": "2025-03-23T09:42:58.782197Z"
    }
   },
   "cell_type": "code",
   "source": "x.max()",
   "id": "a7ceb22f62896366",
   "outputs": [
    {
     "data": {
      "text/plain": [
       "3"
      ]
     },
     "execution_count": 54,
     "metadata": {},
     "output_type": "execute_result"
    }
   ],
   "execution_count": 54
  },
  {
   "metadata": {
    "ExecuteTime": {
     "end_time": "2025-03-23T09:43:07.500724Z",
     "start_time": "2025-03-23T09:43:07.494364Z"
    }
   },
   "cell_type": "code",
   "source": "x.argmin()  # index of minimum element",
   "id": "32bb0063bf6440dd",
   "outputs": [
    {
     "data": {
      "text/plain": [
       "0"
      ]
     },
     "execution_count": 55,
     "metadata": {},
     "output_type": "execute_result"
    }
   ],
   "execution_count": 55
  },
  {
   "metadata": {
    "ExecuteTime": {
     "end_time": "2025-03-23T09:43:16.119869Z",
     "start_time": "2025-03-23T09:43:16.113150Z"
    }
   },
   "cell_type": "code",
   "source": "x.argmax()# index of maximum element",
   "id": "a0f433d37c491471",
   "outputs": [
    {
     "data": {
      "text/plain": [
       "1"
      ]
     },
     "execution_count": 56,
     "metadata": {},
     "output_type": "execute_result"
    }
   ],
   "execution_count": 56
  },
  {
   "metadata": {},
   "cell_type": "markdown",
   "source": "**Logical Operations**",
   "id": "2986980646e17189"
  },
  {
   "metadata": {
    "ExecuteTime": {
     "end_time": "2025-03-23T09:44:01.604032Z",
     "start_time": "2025-03-23T09:44:01.597160Z"
    }
   },
   "cell_type": "code",
   "source": "np.all([True, True, False])",
   "id": "f2454daa7847bd20",
   "outputs": [
    {
     "data": {
      "text/plain": [
       "False"
      ]
     },
     "execution_count": 57,
     "metadata": {},
     "output_type": "execute_result"
    }
   ],
   "execution_count": 57
  },
  {
   "metadata": {
    "ExecuteTime": {
     "end_time": "2025-03-23T09:44:09.881488Z",
     "start_time": "2025-03-23T09:44:09.875230Z"
    }
   },
   "cell_type": "code",
   "source": "np.any([True, False, False])",
   "id": "1ae4d4d9de4d66f2",
   "outputs": [
    {
     "data": {
      "text/plain": [
       "True"
      ]
     },
     "execution_count": 58,
     "metadata": {},
     "output_type": "execute_result"
    }
   ],
   "execution_count": 58
  },
  {
   "metadata": {
    "ExecuteTime": {
     "end_time": "2025-03-23T09:44:21.226389Z",
     "start_time": "2025-03-23T09:44:21.219038Z"
    }
   },
   "cell_type": "code",
   "source": [
    "#Note: can be used for array comparisions\n",
    "a = np.zeros((50, 50))\n",
    "np.any(a != 0)"
   ],
   "id": "b557a39211eec112",
   "outputs": [
    {
     "data": {
      "text/plain": [
       "False"
      ]
     },
     "execution_count": 59,
     "metadata": {},
     "output_type": "execute_result"
    }
   ],
   "execution_count": 59
  },
  {
   "metadata": {
    "ExecuteTime": {
     "end_time": "2025-03-23T09:44:29.198761Z",
     "start_time": "2025-03-23T09:44:29.191702Z"
    }
   },
   "cell_type": "code",
   "source": "np.all(a == a)",
   "id": "302d3e127361ba63",
   "outputs": [
    {
     "data": {
      "text/plain": [
       "True"
      ]
     },
     "execution_count": 60,
     "metadata": {},
     "output_type": "execute_result"
    }
   ],
   "execution_count": 60
  },
  {
   "metadata": {
    "ExecuteTime": {
     "end_time": "2025-03-23T09:44:41.244092Z",
     "start_time": "2025-03-23T09:44:41.235399Z"
    }
   },
   "cell_type": "code",
   "source": [
    "a = np.array([1, 2, 3, 2])\n",
    "b = np.array([2, 2, 3, 2])\n",
    "c = np.array([6, 4, 4, 5])\n",
    "((a <= b) & (b <= c)).all()"
   ],
   "id": "b87a9e12f467d37a",
   "outputs": [
    {
     "data": {
      "text/plain": [
       "True"
      ]
     },
     "execution_count": 61,
     "metadata": {},
     "output_type": "execute_result"
    }
   ],
   "execution_count": 61
  },
  {
   "metadata": {},
   "cell_type": "markdown",
   "source": "**Statistics**",
   "id": "d4d3e627b9c430ce"
  },
  {
   "metadata": {
    "ExecuteTime": {
     "end_time": "2025-03-23T09:45:16.915746Z",
     "start_time": "2025-03-23T09:45:16.909883Z"
    }
   },
   "cell_type": "code",
   "source": [
    "x = np.array([1, 2, 3, 1])\n",
    "y = np.array([[1, 2, 3], [5, 6, 1]])\n",
    "x.mean()"
   ],
   "id": "daaa342497bf6cf",
   "outputs": [
    {
     "data": {
      "text/plain": [
       "1.75"
      ]
     },
     "execution_count": 62,
     "metadata": {},
     "output_type": "execute_result"
    }
   ],
   "execution_count": 62
  },
  {
   "metadata": {
    "ExecuteTime": {
     "end_time": "2025-03-23T09:45:26.918696Z",
     "start_time": "2025-03-23T09:45:26.910658Z"
    }
   },
   "cell_type": "code",
   "source": "np.median(x)",
   "id": "f55130eb7a074c28",
   "outputs": [
    {
     "data": {
      "text/plain": [
       "1.5"
      ]
     },
     "execution_count": 63,
     "metadata": {},
     "output_type": "execute_result"
    }
   ],
   "execution_count": 63
  },
  {
   "metadata": {
    "ExecuteTime": {
     "end_time": "2025-03-23T09:45:36.023116Z",
     "start_time": "2025-03-23T09:45:36.016303Z"
    }
   },
   "cell_type": "code",
   "source": "np.median(y, axis=-1) # last axis",
   "id": "82358d6ffa8cd89c",
   "outputs": [
    {
     "data": {
      "text/plain": [
       "array([2., 5.])"
      ]
     },
     "execution_count": 64,
     "metadata": {},
     "output_type": "execute_result"
    }
   ],
   "execution_count": 64
  },
  {
   "metadata": {
    "ExecuteTime": {
     "end_time": "2025-03-23T09:45:49.495674Z",
     "start_time": "2025-03-23T09:45:49.487980Z"
    }
   },
   "cell_type": "code",
   "source": "x.std()          # full population standard dev.",
   "id": "51b94cf436533a71",
   "outputs": [
    {
     "data": {
      "text/plain": [
       "0.82915619758885"
      ]
     },
     "execution_count": 65,
     "metadata": {},
     "output_type": "execute_result"
    }
   ],
   "execution_count": 65
  },
  {
   "metadata": {},
   "cell_type": "markdown",
   "source": "Data in populations.txt describes the populations of hares and lynxes (and carrots) in northern Canada during 20 years.",
   "id": "78e867126adda831"
  },
  {
   "metadata": {
    "ExecuteTime": {
     "end_time": "2025-03-23T09:47:46.224065Z",
     "start_time": "2025-03-23T09:47:46.219500Z"
    }
   },
   "cell_type": "code",
   "source": [
    "#load data into numpy array object\n",
    "data = np.loadtxt('populations.txt')"
   ],
   "id": "d52886418c048edf",
   "outputs": [],
   "execution_count": 66
  },
  {
   "metadata": {
    "ExecuteTime": {
     "end_time": "2025-03-23T09:47:57.570344Z",
     "start_time": "2025-03-23T09:47:57.562731Z"
    }
   },
   "cell_type": "code",
   "source": "data",
   "id": "3459bc370877c2d1",
   "outputs": [
    {
     "data": {
      "text/plain": [
       "array([[ 1900., 30000.,  4000., 48300.],\n",
       "       [ 1901., 47200.,  6100., 48200.],\n",
       "       [ 1902., 70200.,  9800., 41500.],\n",
       "       [ 1903., 77400., 35200., 38200.],\n",
       "       [ 1904., 36300., 59400., 40600.],\n",
       "       [ 1905., 20600., 41700., 39800.],\n",
       "       [ 1906., 18100., 19000., 38600.],\n",
       "       [ 1907., 21400., 13000., 42300.],\n",
       "       [ 1908., 22000.,  8300., 44500.],\n",
       "       [ 1909., 25400.,  9100., 42100.],\n",
       "       [ 1910., 27100.,  7400., 46000.],\n",
       "       [ 1911., 40300.,  8000., 46800.],\n",
       "       [ 1912., 57000., 12300., 43800.],\n",
       "       [ 1913., 76600., 19500., 40900.],\n",
       "       [ 1914., 52300., 45700., 39400.],\n",
       "       [ 1915., 19500., 51100., 39000.],\n",
       "       [ 1916., 11200., 29700., 36700.],\n",
       "       [ 1917.,  7600., 15800., 41800.],\n",
       "       [ 1918., 14600.,  9700., 43300.],\n",
       "       [ 1919., 16200., 10100., 41300.],\n",
       "       [ 1920., 24700.,  8600., 47300.]])"
      ]
     },
     "execution_count": 67,
     "metadata": {},
     "output_type": "execute_result"
    }
   ],
   "execution_count": 67
  },
  {
   "metadata": {
    "ExecuteTime": {
     "end_time": "2025-03-23T09:49:30.443943Z",
     "start_time": "2025-03-23T09:49:30.438142Z"
    }
   },
   "cell_type": "code",
   "source": [
    "year, hares, lynxes, carrots = data.T #columns to variables\n",
    "print(year)"
   ],
   "id": "fb6f8909f28db31f",
   "outputs": [
    {
     "name": "stdout",
     "output_type": "stream",
     "text": [
      "[1900. 1901. 1902. 1903. 1904. 1905. 1906. 1907. 1908. 1909. 1910. 1911.\n",
      " 1912. 1913. 1914. 1915. 1916. 1917. 1918. 1919. 1920.]\n"
     ]
    }
   ],
   "execution_count": 68
  },
  {
   "metadata": {
    "ExecuteTime": {
     "end_time": "2025-03-23T09:50:51.727516Z",
     "start_time": "2025-03-23T09:50:51.720562Z"
    }
   },
   "cell_type": "code",
   "source": [
    "#The mean population over time\n",
    "populations = data[:, 1:]\n",
    "populations"
   ],
   "id": "2a365a909ccbe6d5",
   "outputs": [
    {
     "data": {
      "text/plain": [
       "array([[30000.,  4000., 48300.],\n",
       "       [47200.,  6100., 48200.],\n",
       "       [70200.,  9800., 41500.],\n",
       "       [77400., 35200., 38200.],\n",
       "       [36300., 59400., 40600.],\n",
       "       [20600., 41700., 39800.],\n",
       "       [18100., 19000., 38600.],\n",
       "       [21400., 13000., 42300.],\n",
       "       [22000.,  8300., 44500.],\n",
       "       [25400.,  9100., 42100.],\n",
       "       [27100.,  7400., 46000.],\n",
       "       [40300.,  8000., 46800.],\n",
       "       [57000., 12300., 43800.],\n",
       "       [76600., 19500., 40900.],\n",
       "       [52300., 45700., 39400.],\n",
       "       [19500., 51100., 39000.],\n",
       "       [11200., 29700., 36700.],\n",
       "       [ 7600., 15800., 41800.],\n",
       "       [14600.,  9700., 43300.],\n",
       "       [16200., 10100., 41300.],\n",
       "       [24700.,  8600., 47300.]])"
      ]
     },
     "execution_count": 69,
     "metadata": {},
     "output_type": "execute_result"
    }
   ],
   "execution_count": 69
  },
  {
   "metadata": {
    "ExecuteTime": {
     "end_time": "2025-03-23T09:55:20.489153Z",
     "start_time": "2025-03-23T09:55:20.481573Z"
    }
   },
   "cell_type": "code",
   "source": [
    "#sample standard deviations\n",
    "populations.std(axis=0)"
   ],
   "id": "b25bd7328610c489",
   "outputs": [
    {
     "data": {
      "text/plain": [
       "array([20897.90645809, 16254.59153691,  3322.50622558])"
      ]
     },
     "execution_count": 70,
     "metadata": {},
     "output_type": "execute_result"
    }
   ],
   "execution_count": 70
  },
  {
   "metadata": {
    "ExecuteTime": {
     "end_time": "2025-03-23T09:55:31.914791Z",
     "start_time": "2025-03-23T09:55:31.904589Z"
    }
   },
   "cell_type": "code",
   "source": [
    "#which species has the highest population each year?\n",
    "\n",
    "np.argmax(populations, axis=1)"
   ],
   "id": "907844ca2df9b24d",
   "outputs": [
    {
     "data": {
      "text/plain": [
       "array([2, 2, 0, 0, 1, 1, 2, 2, 2, 2, 2, 2, 0, 0, 0, 1, 2, 2, 2, 2, 2],\n",
       "      dtype=int64)"
      ]
     },
     "execution_count": 71,
     "metadata": {},
     "output_type": "execute_result"
    }
   ],
   "execution_count": 71
  },
  {
   "metadata": {},
   "cell_type": "markdown",
   "source": "# Broadcasting",
   "id": "271cf04ad7ce0796"
  },
  {
   "metadata": {},
   "cell_type": "markdown",
   "source": [
    "Basic operations on numpy arrays (addition, etc.) are elementwise\n",
    "\n",
    "This works on arrays of the same size.\n",
    "    Nevertheless, It’s also possible to do operations on arrays of different sizes if NumPy can transform these arrays     so that they all have the same size: this conversion is called broadcasting.\n",
    "\n",
    "The image below gives an example of broadcasting:"
   ],
   "id": "c5d9bb8adf1008c6"
  },
  {
   "metadata": {},
   "cell_type": "markdown",
   "source": "![title](broadcasting.png)",
   "id": "214f7dee87d723d3"
  },
  {
   "metadata": {
    "ExecuteTime": {
     "end_time": "2025-03-23T09:58:45.634351Z",
     "start_time": "2025-03-23T09:58:45.628668Z"
    }
   },
   "cell_type": "code",
   "source": [
    "a = np.tile(np.arange(0, 40, 10), (3,1))\n",
    "print(a)\n",
    "\n",
    "print(\"*************\")\n",
    "a=a.T\n",
    "print(a)"
   ],
   "id": "e942c0b894a4a683",
   "outputs": [
    {
     "name": "stdout",
     "output_type": "stream",
     "text": [
      "[[ 0 10 20 30]\n",
      " [ 0 10 20 30]\n",
      " [ 0 10 20 30]]\n",
      "*************\n",
      "[[ 0  0  0]\n",
      " [10 10 10]\n",
      " [20 20 20]\n",
      " [30 30 30]]\n"
     ]
    }
   ],
   "execution_count": 72
  },
  {
   "metadata": {
    "ExecuteTime": {
     "end_time": "2025-03-23T09:58:58.366451Z",
     "start_time": "2025-03-23T09:58:58.360174Z"
    }
   },
   "cell_type": "code",
   "source": [
    "b = np.array([0, 1, 2])\n",
    "b"
   ],
   "id": "f7a4217bd5c5b6de",
   "outputs": [
    {
     "data": {
      "text/plain": [
       "array([0, 1, 2])"
      ]
     },
     "execution_count": 73,
     "metadata": {},
     "output_type": "execute_result"
    }
   ],
   "execution_count": 73
  },
  {
   "metadata": {
    "ExecuteTime": {
     "end_time": "2025-03-23T09:59:06.826896Z",
     "start_time": "2025-03-23T09:59:06.820622Z"
    }
   },
   "cell_type": "code",
   "source": "a + b",
   "id": "9458fe6c607965af",
   "outputs": [
    {
     "data": {
      "text/plain": [
       "array([[ 0,  1,  2],\n",
       "       [10, 11, 12],\n",
       "       [20, 21, 22],\n",
       "       [30, 31, 32]])"
      ]
     },
     "execution_count": 74,
     "metadata": {},
     "output_type": "execute_result"
    }
   ],
   "execution_count": 74
  },
  {
   "metadata": {
    "ExecuteTime": {
     "end_time": "2025-03-23T09:59:19.011420Z",
     "start_time": "2025-03-23T09:59:19.004005Z"
    }
   },
   "cell_type": "code",
   "source": [
    "a = np.arange(0, 40, 10)\n",
    "a.shape"
   ],
   "id": "cc1daec7aa617b26",
   "outputs": [
    {
     "data": {
      "text/plain": [
       "(4,)"
      ]
     },
     "execution_count": 75,
     "metadata": {},
     "output_type": "execute_result"
    }
   ],
   "execution_count": 75
  },
  {
   "metadata": {
    "ExecuteTime": {
     "end_time": "2025-03-23T09:59:30.493868Z",
     "start_time": "2025-03-23T09:59:30.486757Z"
    }
   },
   "cell_type": "code",
   "source": [
    "a = a[:, np.newaxis]  # adds a new axis -> 2D array\n",
    "a.shape"
   ],
   "id": "ffb96e089f27ca42",
   "outputs": [
    {
     "data": {
      "text/plain": [
       "(4, 1)"
      ]
     },
     "execution_count": 76,
     "metadata": {},
     "output_type": "execute_result"
    }
   ],
   "execution_count": 76
  },
  {
   "metadata": {
    "ExecuteTime": {
     "end_time": "2025-03-23T09:59:40.144518Z",
     "start_time": "2025-03-23T09:59:40.136928Z"
    }
   },
   "cell_type": "code",
   "source": "a",
   "id": "f48e24e613995192",
   "outputs": [
    {
     "data": {
      "text/plain": [
       "array([[ 0],\n",
       "       [10],\n",
       "       [20],\n",
       "       [30]])"
      ]
     },
     "execution_count": 77,
     "metadata": {},
     "output_type": "execute_result"
    }
   ],
   "execution_count": 77
  },
  {
   "metadata": {
    "ExecuteTime": {
     "end_time": "2025-03-23T09:59:49.633029Z",
     "start_time": "2025-03-23T09:59:49.624529Z"
    }
   },
   "cell_type": "code",
   "source": "a + b",
   "id": "9a546f061f435c4c",
   "outputs": [
    {
     "data": {
      "text/plain": [
       "array([[ 0,  1,  2],\n",
       "       [10, 11, 12],\n",
       "       [20, 21, 22],\n",
       "       [30, 31, 32]])"
      ]
     },
     "execution_count": 78,
     "metadata": {},
     "output_type": "execute_result"
    }
   ],
   "execution_count": 78
  },
  {
   "metadata": {},
   "cell_type": "markdown",
   "source": "# Array Shape Manipulation",
   "id": "1e628f188d598501"
  },
  {
   "metadata": {},
   "cell_type": "markdown",
   "source": "**Flattening**",
   "id": "11ff4542563efc8d"
  },
  {
   "metadata": {
    "ExecuteTime": {
     "end_time": "2025-03-23T10:00:45.449787Z",
     "start_time": "2025-03-23T10:00:45.442779Z"
    }
   },
   "cell_type": "code",
   "source": [
    "a = np.array([[1, 2, 3], [4, 5, 6]])\n",
    "a.ravel() #Return a contiguous flattened array. A 1-D array, containing the elements of the input, is returned. A copy is made only if needed."
   ],
   "id": "2f9ee537e86e3ae8",
   "outputs": [
    {
     "data": {
      "text/plain": [
       "array([1, 2, 3, 4, 5, 6])"
      ]
     },
     "execution_count": 79,
     "metadata": {},
     "output_type": "execute_result"
    }
   ],
   "execution_count": 79
  },
  {
   "metadata": {
    "ExecuteTime": {
     "end_time": "2025-03-23T10:00:59.132167Z",
     "start_time": "2025-03-23T10:00:59.125415Z"
    }
   },
   "cell_type": "code",
   "source": "a.T #Transpose",
   "id": "caeb5277a068729a",
   "outputs": [
    {
     "data": {
      "text/plain": [
       "array([[1, 4],\n",
       "       [2, 5],\n",
       "       [3, 6]])"
      ]
     },
     "execution_count": 80,
     "metadata": {},
     "output_type": "execute_result"
    }
   ],
   "execution_count": 80
  },
  {
   "metadata": {
    "ExecuteTime": {
     "end_time": "2025-03-23T10:01:10.739828Z",
     "start_time": "2025-03-23T10:01:10.733054Z"
    }
   },
   "cell_type": "code",
   "source": "a.T.ravel()",
   "id": "e763365f52e73a19",
   "outputs": [
    {
     "data": {
      "text/plain": [
       "array([1, 4, 2, 5, 3, 6])"
      ]
     },
     "execution_count": 81,
     "metadata": {},
     "output_type": "execute_result"
    }
   ],
   "execution_count": 81
  },
  {
   "metadata": {},
   "cell_type": "markdown",
   "source": "**Reshaping**",
   "id": "2802d87904338fba"
  },
  {
   "metadata": {},
   "cell_type": "markdown",
   "source": "The inverse operation to flattening:",
   "id": "3e70d1bbe281916b"
  },
  {
   "metadata": {
    "ExecuteTime": {
     "end_time": "2025-03-23T10:01:52.455342Z",
     "start_time": "2025-03-23T10:01:52.449640Z"
    }
   },
   "cell_type": "code",
   "source": [
    "print(a.shape)\n",
    "print(a)"
   ],
   "id": "f20e5e9d5164b1e9",
   "outputs": [
    {
     "name": "stdout",
     "output_type": "stream",
     "text": [
      "(2, 3)\n",
      "[[1 2 3]\n",
      " [4 5 6]]\n"
     ]
    }
   ],
   "execution_count": 82
  },
  {
   "metadata": {
    "ExecuteTime": {
     "end_time": "2025-03-23T10:02:13.339123Z",
     "start_time": "2025-03-23T10:02:13.330598Z"
    }
   },
   "cell_type": "code",
   "source": [
    "b = a.ravel()\n",
    "print(b)"
   ],
   "id": "fa6ab0b778571755",
   "outputs": [
    {
     "name": "stdout",
     "output_type": "stream",
     "text": [
      "[1 2 3 4 5 6]\n"
     ]
    }
   ],
   "execution_count": 83
  },
  {
   "metadata": {
    "ExecuteTime": {
     "end_time": "2025-03-23T10:02:27.087789Z",
     "start_time": "2025-03-23T10:02:27.081658Z"
    }
   },
   "cell_type": "code",
   "source": [
    "b = b.reshape((2, 3))\n",
    "b"
   ],
   "id": "59a5215c65ad63c8",
   "outputs": [
    {
     "data": {
      "text/plain": [
       "array([[1, 2, 3],\n",
       "       [4, 5, 6]])"
      ]
     },
     "execution_count": 84,
     "metadata": {},
     "output_type": "execute_result"
    }
   ],
   "execution_count": 84
  },
  {
   "metadata": {
    "ExecuteTime": {
     "end_time": "2025-03-23T10:02:36.917821Z",
     "start_time": "2025-03-23T10:02:36.911171Z"
    }
   },
   "cell_type": "code",
   "source": [
    "b[0, 0] = 100\n",
    "a"
   ],
   "id": "cee1e5f487c77c1b",
   "outputs": [
    {
     "data": {
      "text/plain": [
       "array([[100,   2,   3],\n",
       "       [  4,   5,   6]])"
      ]
     },
     "execution_count": 85,
     "metadata": {},
     "output_type": "execute_result"
    }
   ],
   "execution_count": 85
  },
  {
   "metadata": {},
   "cell_type": "markdown",
   "source": "**Note and       Beware: reshape may also return a copy!:**",
   "id": "5d3b4265576c8bcf"
  },
  {
   "metadata": {
    "ExecuteTime": {
     "end_time": "2025-03-23T10:11:38.587941Z",
     "start_time": "2025-03-23T10:11:38.580925Z"
    }
   },
   "cell_type": "code",
   "source": [
    "a = np.zeros((3, 2))  # Creates a 3x2 matrix filled with zeros\n",
    "b = a.T.reshape(3*2)  # Transposes a (2x3) and reshapes to a 1D array of size 6\n",
    "b[0] = 50  # Modifies the first element of b\n",
    "print(a)  # What happens to a?\n",
    "# Does b Affect a?\n",
    "# No, b does not modify a because of how NumPy reshapes transposed arrays.\n",
    "# If you modify b[0], it does not affect a. The reason is that when you reshape a transposed array, it creates a new copy instead of a view."
   ],
   "id": "1d953a2ab37afd93",
   "outputs": [
    {
     "data": {
      "text/plain": [
       "array([[0., 0.],\n",
       "       [0., 0.],\n",
       "       [0., 0.]])"
      ]
     },
     "execution_count": 99,
     "metadata": {},
     "output_type": "execute_result"
    }
   ],
   "execution_count": 99
  },
  {
   "metadata": {},
   "cell_type": "markdown",
   "source": "**Adding a Dimension**",
   "id": "e003cb2008d4fef9"
  },
  {
   "metadata": {},
   "cell_type": "markdown",
   "source": "Indexing with the np.newaxis object allows us to add an axis to an array",
   "id": "fd48c20610b30c7"
  },
  {
   "metadata": {},
   "cell_type": "markdown",
   "source": [
    "newaxis is used to increase the dimension of the existing array by one more dimension, when used once. Thus,\n",
    "\n",
    "1D array will become 2D array\n",
    "\n",
    "2D array will become 3D array\n",
    "\n",
    "3D array will become 4D array and so on"
   ],
   "id": "7d21a7e1af69ef94"
  },
  {
   "metadata": {
    "ExecuteTime": {
     "end_time": "2025-03-23T10:14:51.081717Z",
     "start_time": "2025-03-23T10:14:51.074654Z"
    }
   },
   "cell_type": "code",
   "source": [
    "z = np.array([1, 2, 3])\n",
    "z"
   ],
   "id": "86bf22db14e09091",
   "outputs": [
    {
     "data": {
      "text/plain": [
       "array([1, 2, 3])"
      ]
     },
     "execution_count": 100,
     "metadata": {},
     "output_type": "execute_result"
    }
   ],
   "execution_count": 100
  },
  {
   "metadata": {
    "ExecuteTime": {
     "end_time": "2025-03-23T10:15:00.854008Z",
     "start_time": "2025-03-23T10:15:00.846879Z"
    }
   },
   "cell_type": "code",
   "source": "z[:, np.newaxis]",
   "id": "9d23ff4aa5d57b25",
   "outputs": [
    {
     "data": {
      "text/plain": [
       "array([[1],\n",
       "       [2],\n",
       "       [3]])"
      ]
     },
     "execution_count": 101,
     "metadata": {},
     "output_type": "execute_result"
    }
   ],
   "execution_count": 101
  },
  {
   "metadata": {},
   "cell_type": "markdown",
   "source": "**Dimension Shuffling**",
   "id": "5c1214dc95fb870e"
  },
  {
   "metadata": {
    "ExecuteTime": {
     "end_time": "2025-03-23T10:15:58.265356Z",
     "start_time": "2025-03-23T10:15:58.259136Z"
    }
   },
   "cell_type": "code",
   "source": [
    "a = np.arange(4*3*2).reshape(4, 3, 2)\n",
    "a.shape"
   ],
   "id": "661294d11226b40f",
   "outputs": [
    {
     "data": {
      "text/plain": [
       "(4, 3, 2)"
      ]
     },
     "execution_count": 102,
     "metadata": {},
     "output_type": "execute_result"
    }
   ],
   "execution_count": 102
  },
  {
   "metadata": {
    "ExecuteTime": {
     "end_time": "2025-03-23T10:16:06.037586Z",
     "start_time": "2025-03-23T10:16:06.028130Z"
    }
   },
   "cell_type": "code",
   "source": "a",
   "id": "96db769ae62451e0",
   "outputs": [
    {
     "data": {
      "text/plain": [
       "array([[[ 0,  1],\n",
       "        [ 2,  3],\n",
       "        [ 4,  5]],\n",
       "\n",
       "       [[ 6,  7],\n",
       "        [ 8,  9],\n",
       "        [10, 11]],\n",
       "\n",
       "       [[12, 13],\n",
       "        [14, 15],\n",
       "        [16, 17]],\n",
       "\n",
       "       [[18, 19],\n",
       "        [20, 21],\n",
       "        [22, 23]]])"
      ]
     },
     "execution_count": 103,
     "metadata": {},
     "output_type": "execute_result"
    }
   ],
   "execution_count": 103
  },
  {
   "metadata": {
    "ExecuteTime": {
     "end_time": "2025-03-23T10:16:17.351077Z",
     "start_time": "2025-03-23T10:16:17.344939Z"
    }
   },
   "cell_type": "code",
   "source": "a[0, 2, 1]",
   "id": "6e9c0b019508e49a",
   "outputs": [
    {
     "data": {
      "text/plain": [
       "5"
      ]
     },
     "execution_count": 104,
     "metadata": {},
     "output_type": "execute_result"
    }
   ],
   "execution_count": 104
  },
  {
   "metadata": {},
   "cell_type": "markdown",
   "source": "**Resizing**",
   "id": "c6a8969bab893af0"
  },
  {
   "metadata": {
    "ExecuteTime": {
     "end_time": "2025-03-23T10:16:45.436728Z",
     "start_time": "2025-03-23T10:16:45.430302Z"
    }
   },
   "cell_type": "code",
   "source": [
    "a = np.arange(4)\n",
    "a.resize((8,))\n",
    "a"
   ],
   "id": "78b74cdfeeda4d78",
   "outputs": [
    {
     "data": {
      "text/plain": [
       "array([0, 1, 2, 3, 0, 0, 0, 0])"
      ]
     },
     "execution_count": 105,
     "metadata": {},
     "output_type": "execute_result"
    }
   ],
   "execution_count": 105
  },
  {
   "metadata": {},
   "cell_type": "markdown",
   "source": "However, it must not be referred to somewhere else:",
   "id": "d9f3fa5ed03e98f1"
  },
  {
   "metadata": {
    "ExecuteTime": {
     "end_time": "2025-03-23T10:17:16.989680Z",
     "start_time": "2025-03-23T10:17:16.966826Z"
    }
   },
   "cell_type": "code",
   "source": [
    "b = a\n",
    "a.resize((4,)) "
   ],
   "id": "c9c567ee887c7205",
   "outputs": [
    {
     "ename": "ValueError",
     "evalue": "cannot resize an array that references or is referenced\nby another array in this way.\nUse the np.resize function or refcheck=False",
     "output_type": "error",
     "traceback": [
      "\u001B[1;31m---------------------------------------------------------------------------\u001B[0m",
      "\u001B[1;31mValueError\u001B[0m                                Traceback (most recent call last)",
      "Cell \u001B[1;32mIn[106], line 2\u001B[0m\n\u001B[0;32m      1\u001B[0m b \u001B[38;5;241m=\u001B[39m a\n\u001B[1;32m----> 2\u001B[0m a\u001B[38;5;241m.\u001B[39mresize((\u001B[38;5;241m4\u001B[39m,))\n",
      "\u001B[1;31mValueError\u001B[0m: cannot resize an array that references or is referenced\nby another array in this way.\nUse the np.resize function or refcheck=False"
     ]
    }
   ],
   "execution_count": 106
  },
  {
   "metadata": {},
   "cell_type": "markdown",
   "source": "**Sorting Data**",
   "id": "635a8375597eeaef"
  },
  {
   "metadata": {
    "ExecuteTime": {
     "end_time": "2025-03-23T10:17:42.189899Z",
     "start_time": "2025-03-23T10:17:42.182117Z"
    }
   },
   "cell_type": "code",
   "source": [
    "#Sorting along an axis:\n",
    "a = np.array([[5, 4, 6], [2, 3, 2]])\n",
    "b = np.sort(a, axis=1)\n",
    "b"
   ],
   "id": "6ea9da1b25c5eb27",
   "outputs": [
    {
     "data": {
      "text/plain": [
       "array([[4, 5, 6],\n",
       "       [2, 2, 3]])"
      ]
     },
     "execution_count": 107,
     "metadata": {},
     "output_type": "execute_result"
    }
   ],
   "execution_count": 107
  },
  {
   "metadata": {
    "ExecuteTime": {
     "end_time": "2025-03-23T10:17:58.200621Z",
     "start_time": "2025-03-23T10:17:58.194249Z"
    }
   },
   "cell_type": "code",
   "source": [
    "#in-place sort\n",
    "a.sort(axis=1)\n",
    "a"
   ],
   "id": "38e9feec3224d4e6",
   "outputs": [
    {
     "data": {
      "text/plain": [
       "array([[4, 5, 6],\n",
       "       [2, 2, 3]])"
      ]
     },
     "execution_count": 108,
     "metadata": {},
     "output_type": "execute_result"
    }
   ],
   "execution_count": 108
  },
  {
   "metadata": {
    "ExecuteTime": {
     "end_time": "2025-03-23T10:18:08.254333Z",
     "start_time": "2025-03-23T10:18:08.247558Z"
    }
   },
   "cell_type": "code",
   "source": [
    "#sorting with fancy indexing\n",
    "a = np.array([4, 3, 1, 2])\n",
    "j = np.argsort(a)\n",
    "j"
   ],
   "id": "f6a830a5a2b8b926",
   "outputs": [
    {
     "data": {
      "text/plain": [
       "array([2, 3, 1, 0], dtype=int64)"
      ]
     },
     "execution_count": 109,
     "metadata": {},
     "output_type": "execute_result"
    }
   ],
   "execution_count": 109
  },
  {
   "metadata": {
    "ExecuteTime": {
     "end_time": "2025-03-23T10:18:19.818706Z",
     "start_time": "2025-03-23T10:18:19.813Z"
    }
   },
   "cell_type": "code",
   "source": "a[j]",
   "id": "ff746ed9efeff539",
   "outputs": [
    {
     "data": {
      "text/plain": [
       "array([1, 2, 3, 4])"
      ]
     },
     "execution_count": 110,
     "metadata": {},
     "output_type": "execute_result"
    }
   ],
   "execution_count": 110
  },
  {
   "metadata": {},
   "cell_type": "code",
   "outputs": [],
   "execution_count": null,
   "source": "",
   "id": "9cb76723cb2278d8"
  }
 ],
 "metadata": {
  "kernelspec": {
   "display_name": "Python 3",
   "language": "python",
   "name": "python3"
  },
  "language_info": {
   "codemirror_mode": {
    "name": "ipython",
    "version": 2
   },
   "file_extension": ".py",
   "mimetype": "text/x-python",
   "name": "python",
   "nbconvert_exporter": "python",
   "pygments_lexer": "ipython2",
   "version": "2.7.6"
  }
 },
 "nbformat": 4,
 "nbformat_minor": 5
}
