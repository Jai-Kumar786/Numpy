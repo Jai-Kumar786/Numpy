{
 "cells": [
  {
   "metadata": {},
   "cell_type": "markdown",
   "source": "Intrinsic vs. Extrinsic Arrays in NumPy",
   "id": "7367d9d228f9ddc8"
  },
  {
   "metadata": {},
   "cell_type": "markdown",
   "source": [
    "Intrinsic Arrays\n",
    "Intrinsic arrays are arrays that are created using built-in NumPy functions such as zeros(), ones(), full(), and arange(). These functions generate arrays with predefined values without requiring the user to provide explicit data."
   ],
   "id": "3dcb2874a27fa8a3"
  },
  {
   "metadata": {},
   "cell_type": "markdown",
   "source": [
    "Examples of Intrinsic Arrays\n",
    "Using zeros() to create an array filled with zeros"
   ],
   "id": "4652658124dd027e"
  },
  {
   "metadata": {
    "ExecuteTime": {
     "end_time": "2025-03-23T12:41:30.135954Z",
     "start_time": "2025-03-23T12:41:29.992676Z"
    }
   },
   "cell_type": "code",
   "source": [
    "import numpy as np\n",
    "intrinsic_array = np.zeros((3, 3))\n",
    "print(intrinsic_array)\n"
   ],
   "id": "520b79ba9f317715",
   "outputs": [
    {
     "name": "stdout",
     "output_type": "stream",
     "text": [
      "[[0. 0. 0.]\n",
      " [0. 0. 0.]\n",
      " [0. 0. 0.]]\n"
     ]
    }
   ],
   "execution_count": 1
  },
  {
   "metadata": {},
   "cell_type": "markdown",
   "source": "Using ones() to create an array filled with ones",
   "id": "1e4e63a7a160524"
  },
  {
   "metadata": {
    "ExecuteTime": {
     "end_time": "2025-03-23T12:42:36.437747Z",
     "start_time": "2025-03-23T12:42:36.428779Z"
    }
   },
   "cell_type": "code",
   "source": [
    "intrinsic_array = np.ones((3, 3))\n",
    "print(intrinsic_array)\n"
   ],
   "id": "56cbd356d8e2d26c",
   "outputs": [
    {
     "name": "stdout",
     "output_type": "stream",
     "text": [
      "[[1. 1. 1.]\n",
      " [1. 1. 1.]\n",
      " [1. 1. 1.]]\n"
     ]
    }
   ],
   "execution_count": 2
  },
  {
   "metadata": {},
   "cell_type": "markdown",
   "source": "Using arange() to create a sequence",
   "id": "27d52c3d808dc0fb"
  },
  {
   "metadata": {
    "ExecuteTime": {
     "end_time": "2025-03-23T12:42:56.364442Z",
     "start_time": "2025-03-23T12:42:56.359946Z"
    }
   },
   "cell_type": "code",
   "source": [
    "intrinsic_array = np.arange(10)\n",
    "print(intrinsic_array)\n"
   ],
   "id": "1b4c0fc8db7a9b71",
   "outputs": [
    {
     "name": "stdout",
     "output_type": "stream",
     "text": [
      "[0 1 2 3 4 5 6 7 8 9]\n"
     ]
    }
   ],
   "execution_count": 3
  },
  {
   "metadata": {},
   "cell_type": "markdown",
   "source": [
    "Extrinsic Arrays\n",
    "Extrinsic arrays, on the other hand, are created from external sources such as lists, tuples, or files. These arrays do not have predefined values; instead, they take their values from user input, data files, or other sources."
   ],
   "id": "fb8729d5b3b581e4"
  },
  {
   "metadata": {},
   "cell_type": "markdown",
   "source": "Creating an array from a Python list",
   "id": "d3173ddc3921a34f"
  },
  {
   "metadata": {
    "ExecuteTime": {
     "end_time": "2025-03-23T12:43:51.434924Z",
     "start_time": "2025-03-23T12:43:51.429439Z"
    }
   },
   "cell_type": "code",
   "source": [
    "extrinsic_array = np.array([10, 20, 30, 40])\n",
    "print(extrinsic_array)\n"
   ],
   "id": "c4517e6b054b0d62",
   "outputs": [
    {
     "name": "stdout",
     "output_type": "stream",
     "text": [
      "[10 20 30 40]\n"
     ]
    }
   ],
   "execution_count": 4
  },
  {
   "metadata": {},
   "cell_type": "markdown",
   "source": "Creating an array from a tuple",
   "id": "4a8a0b261198a81b"
  },
  {
   "metadata": {
    "ExecuteTime": {
     "end_time": "2025-03-23T12:44:14.833067Z",
     "start_time": "2025-03-23T12:44:14.828364Z"
    }
   },
   "cell_type": "code",
   "source": [
    "extrinsic_array = np.array((5, 10, 15, 20))\n",
    "print(extrinsic_array)\n"
   ],
   "id": "24720b99247a0411",
   "outputs": [
    {
     "name": "stdout",
     "output_type": "stream",
     "text": [
      "[ 5 10 15 20]\n"
     ]
    }
   ],
   "execution_count": 5
  },
  {
   "metadata": {},
   "cell_type": "markdown",
   "source": "# Converting Between Intrinsic and Extrinsic Arrays",
   "id": "122982d8140e8304"
  },
  {
   "metadata": {},
   "cell_type": "markdown",
   "source": "Converting an Intrinsic Array to an Extrinsic Array",
   "id": "b664eaf9de65b41"
  },
  {
   "metadata": {},
   "cell_type": "markdown",
   "source": "You can convert an intrinsic array to an extrinsic one by converting it into a Python list using .tolist()",
   "id": "5cf8826480a2689f"
  },
  {
   "metadata": {
    "ExecuteTime": {
     "end_time": "2025-03-23T12:45:29.005540Z",
     "start_time": "2025-03-23T12:45:28.998348Z"
    }
   },
   "cell_type": "code",
   "source": [
    "intrinsic_array = np.ones((2, 2))  # Creating an intrinsic array\n",
    "extrinsic_list = intrinsic_array.tolist()  # Converting to extrinsic (Python list)\n",
    "print(extrinsic_list)\n"
   ],
   "id": "842bf6da321edd5d",
   "outputs": [
    {
     "name": "stdout",
     "output_type": "stream",
     "text": [
      "[[1.0, 1.0], [1.0, 1.0]]\n"
     ]
    }
   ],
   "execution_count": 6
  },
  {
   "metadata": {},
   "cell_type": "markdown",
   "source": "Converting an Extrinsic Array to an Intrinsic Array",
   "id": "ce283f5288ab1727"
  },
  {
   "metadata": {},
   "cell_type": "markdown",
   "source": "You can convert an extrinsic array (list, tuple, or external data) into an intrinsic NumPy array using np.array().",
   "id": "fd403780674dba7d"
  },
  {
   "metadata": {
    "ExecuteTime": {
     "end_time": "2025-03-23T12:46:20.522788Z",
     "start_time": "2025-03-23T12:46:20.516791Z"
    }
   },
   "cell_type": "code",
   "source": [
    "extrinsic_list = [[2, 4, 6], [8, 10, 12]]  # Python list (extrinsic)\n",
    "intrinsic_array = np.array(extrinsic_list)  # Converting to NumPy intrinsic array\n",
    "print(intrinsic_array)\n"
   ],
   "id": "e65b404c05c3c62d",
   "outputs": [
    {
     "name": "stdout",
     "output_type": "stream",
     "text": [
      "[[ 2  4  6]\n",
      " [ 8 10 12]]\n"
     ]
    }
   ],
   "execution_count": 7
  },
  {
   "metadata": {
    "ExecuteTime": {
     "end_time": "2025-03-23T12:47:27.061737Z",
     "start_time": "2025-03-23T12:47:27.057294Z"
    }
   },
   "cell_type": "code",
   "source": [
    "# Type\tDefinition\tExample\n",
    "# Intrinsic Arrays\tCreated using built-in NumPy functions like zeros(), ones(), arange(), etc.\tnp.zeros((3,3))\n",
    "# Extrinsic Arrays\tCreated from external data sources like lists, tuples, or files.\tnp.array([10, 20, 30])\n",
    "# Conversion (Intrinsic → Extrinsic)\tConvert to a Python list using .tolist()\tarray.tolist()\n",
    "# Conversion (Extrinsic → Intrinsic)\tConvert to a NumPy array using np.array()\tnp.array(list)"
   ],
   "id": "19516c00f269834d",
   "outputs": [],
   "execution_count": 8
  },
  {
   "metadata": {},
   "cell_type": "code",
   "outputs": [],
   "execution_count": null,
   "source": "",
   "id": "63178b9fcd624343"
  }
 ],
 "metadata": {
  "kernelspec": {
   "display_name": "Python 3",
   "language": "python",
   "name": "python3"
  },
  "language_info": {
   "codemirror_mode": {
    "name": "ipython",
    "version": 2
   },
   "file_extension": ".py",
   "mimetype": "text/x-python",
   "name": "python",
   "nbconvert_exporter": "python",
   "pygments_lexer": "ipython2",
   "version": "2.7.6"
  }
 },
 "nbformat": 4,
 "nbformat_minor": 5
}
