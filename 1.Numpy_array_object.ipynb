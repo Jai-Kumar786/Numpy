{
 "cells": [
  {
   "metadata": {},
   "cell_type": "markdown",
   "source": "# NumPy Arrays",
   "id": "89f40cbadf5a6916"
  },
  {
   "metadata": {},
   "cell_type": "markdown",
   "source": [
    "**Numpy provides:**\n",
    "\n",
    "1. extension package to Python for multi-dimensional arrays\n",
    "2. closer to hardware (efficiency)\n",
    "3. designed for scientific computation (convenience)\n",
    "4. Also known as array oriented computing"
   ],
   "id": "9634307d6978aee2"
  },
  {
   "metadata": {
    "ExecuteTime": {
     "end_time": "2025-03-27T07:47:07.048207Z",
     "start_time": "2025-03-27T07:47:06.836945Z"
    }
   },
   "cell_type": "code",
   "source": [
    "import numpy as np\n",
    "a = np.array([0, 1, 2, 3])\n",
    "print(a)\n",
    "\n",
    "\n",
    "\n",
    "print(np.arange(10))"
   ],
   "id": "a47ec010648d7809",
   "outputs": [
    {
     "name": "stdout",
     "output_type": "stream",
     "text": [
      "[0 1 2 3]\n",
      "[0 1 2 3 4 5 6 7 8 9]\n"
     ]
    }
   ],
   "execution_count": 2
  },
  {
   "metadata": {},
   "cell_type": "markdown",
   "source": "**Why it is useful:** Memory-efficient container that provides fast numerical operations.",
   "id": "de81322ebb6e9816"
  },
  {
   "metadata": {
    "ExecuteTime": {
     "end_time": "2025-03-22T18:15:23.860167Z",
     "start_time": "2025-03-22T18:15:15.493482Z"
    }
   },
   "cell_type": "code",
   "source": [
    "#python lists\n",
    "L = range(1000)\n",
    "%timeit [i**2 for i in L]\n",
    "# The %timeit magic command in Python is used to measure the execution time of a single statement or a small block of code."
   ],
   "id": "1980907df404a5ae",
   "outputs": [
    {
     "name": "stdout",
     "output_type": "stream",
     "text": [
      "103 μs ± 4.29 μs per loop (mean ± std. dev. of 7 runs, 10,000 loops each)\n"
     ]
    }
   ],
   "execution_count": 1
  },
  {
   "metadata": {
    "ExecuteTime": {
     "end_time": "2025-03-22T18:17:00.056138Z",
     "start_time": "2025-03-22T18:16:47.286294Z"
    }
   },
   "cell_type": "code",
   "source": [
    "a = np.arange(1000)\n",
    "%timeit a**2"
   ],
   "id": "18bc01564d9e69b7",
   "outputs": [
    {
     "name": "stdout",
     "output_type": "stream",
     "text": [
      "1.55 μs ± 43.6 ns per loop (mean ± std. dev. of 7 runs, 1,000,000 loops each)\n"
     ]
    }
   ],
   "execution_count": 4
  },
  {
   "metadata": {},
   "cell_type": "markdown",
   "source": "# 1. Creating arrays",
   "id": "421080e9a60541c5"
  },
  {
   "metadata": {},
   "cell_type": "markdown",
   "source": "** 1.1.  Manual Construction of arrays**",
   "id": "eb4735705d79793"
  },
  {
   "metadata": {
    "ExecuteTime": {
     "end_time": "2025-03-22T18:50:48.979658Z",
     "start_time": "2025-03-22T18:50:48.969815Z"
    }
   },
   "cell_type": "code",
   "source": [
    "#1-D\n",
    "\n",
    "a = np.array([0, 1, 2, 3])\n",
    "\n",
    "a"
   ],
   "id": "aca9e7783b59feca",
   "outputs": [
    {
     "data": {
      "text/plain": [
       "array([0, 1, 2, 3])"
      ]
     },
     "execution_count": 6,
     "metadata": {},
     "output_type": "execute_result"
    }
   ],
   "execution_count": 6
  },
  {
   "metadata": {
    "ExecuteTime": {
     "end_time": "2025-03-22T18:50:58.975740Z",
     "start_time": "2025-03-22T18:50:58.970224Z"
    }
   },
   "cell_type": "code",
   "source": [
    "#print dimensions\n",
    "\n",
    "a.ndim"
   ],
   "id": "bff2a4737e56a73c",
   "outputs": [
    {
     "data": {
      "text/plain": [
       "1"
      ]
     },
     "execution_count": 7,
     "metadata": {},
     "output_type": "execute_result"
    }
   ],
   "execution_count": 7
  },
  {
   "metadata": {
    "ExecuteTime": {
     "end_time": "2025-03-22T18:51:08.501442Z",
     "start_time": "2025-03-22T18:51:08.494908Z"
    }
   },
   "cell_type": "code",
   "source": [
    "#shape\n",
    "\n",
    "a.shape"
   ],
   "id": "8e9544ef4a5a6f5",
   "outputs": [
    {
     "data": {
      "text/plain": [
       "(4,)"
      ]
     },
     "execution_count": 8,
     "metadata": {},
     "output_type": "execute_result"
    }
   ],
   "execution_count": 8
  },
  {
   "metadata": {
    "ExecuteTime": {
     "end_time": "2025-03-22T18:51:20.688759Z",
     "start_time": "2025-03-22T18:51:20.681752Z"
    }
   },
   "cell_type": "code",
   "source": [
    "# 2-D, 3-D....\n",
    "\n",
    "b = np.array([[0, 1, 2], [3, 4, 5]])\n",
    "\n",
    "b"
   ],
   "id": "9e15dd1fa6024d39",
   "outputs": [
    {
     "data": {
      "text/plain": [
       "array([[0, 1, 2],\n",
       "       [3, 4, 5]])"
      ]
     },
     "execution_count": 9,
     "metadata": {},
     "output_type": "execute_result"
    }
   ],
   "execution_count": 9
  },
  {
   "metadata": {
    "ExecuteTime": {
     "end_time": "2025-03-22T18:52:03.114720Z",
     "start_time": "2025-03-22T18:52:03.108465Z"
    }
   },
   "cell_type": "code",
   "source": "b.ndim",
   "id": "65958bcb2eb55218",
   "outputs": [
    {
     "data": {
      "text/plain": [
       "2"
      ]
     },
     "execution_count": 10,
     "metadata": {},
     "output_type": "execute_result"
    }
   ],
   "execution_count": 10
  },
  {
   "metadata": {
    "ExecuteTime": {
     "end_time": "2025-03-22T18:52:12.580834Z",
     "start_time": "2025-03-22T18:52:12.573596Z"
    }
   },
   "cell_type": "code",
   "source": "b.shape",
   "id": "73c7ed3cb9b4fee",
   "outputs": [
    {
     "data": {
      "text/plain": [
       "(2, 3)"
      ]
     },
     "execution_count": 11,
     "metadata": {},
     "output_type": "execute_result"
    }
   ],
   "execution_count": 11
  },
  {
   "metadata": {
    "ExecuteTime": {
     "end_time": "2025-03-22T18:52:27.539665Z",
     "start_time": "2025-03-22T18:52:27.532836Z"
    }
   },
   "cell_type": "code",
   "source": "len(b) #returns the size of the first dimension",
   "id": "360e91e4d08cce5",
   "outputs": [
    {
     "data": {
      "text/plain": [
       "2"
      ]
     },
     "execution_count": 12,
     "metadata": {},
     "output_type": "execute_result"
    }
   ],
   "execution_count": 12
  },
  {
   "metadata": {
    "ExecuteTime": {
     "end_time": "2025-03-22T18:52:56.935266Z",
     "start_time": "2025-03-22T18:52:56.926858Z"
    }
   },
   "cell_type": "code",
   "source": [
    "c = np.array([[[0, 1], [2, 3]], [[4, 5], [6, 7]]])\n",
    "\n",
    "c"
   ],
   "id": "843521e929fc9f48",
   "outputs": [
    {
     "data": {
      "text/plain": [
       "array([[[0, 1],\n",
       "        [2, 3]],\n",
       "\n",
       "       [[4, 5],\n",
       "        [6, 7]]])"
      ]
     },
     "execution_count": 13,
     "metadata": {},
     "output_type": "execute_result"
    }
   ],
   "execution_count": 13
  },
  {
   "metadata": {
    "ExecuteTime": {
     "end_time": "2025-03-22T18:53:21.646592Z",
     "start_time": "2025-03-22T18:53:21.639307Z"
    }
   },
   "cell_type": "code",
   "source": "c.ndim",
   "id": "ce478060f67dd291",
   "outputs": [
    {
     "data": {
      "text/plain": [
       "3"
      ]
     },
     "execution_count": 14,
     "metadata": {},
     "output_type": "execute_result"
    }
   ],
   "execution_count": 14
  },
  {
   "metadata": {
    "ExecuteTime": {
     "end_time": "2025-03-22T18:53:38.615044Z",
     "start_time": "2025-03-22T18:53:38.608568Z"
    }
   },
   "cell_type": "code",
   "source": "c.shape",
   "id": "5a5058e6c81b4bc0",
   "outputs": [
    {
     "data": {
      "text/plain": [
       "(2, 2, 2)"
      ]
     },
     "execution_count": 15,
     "metadata": {},
     "output_type": "execute_result"
    }
   ],
   "execution_count": 15
  },
  {
   "metadata": {},
   "cell_type": "markdown",
   "source": "** 1.2  Functions for creating arrays**",
   "id": "c6add361318140b3"
  },
  {
   "metadata": {
    "ExecuteTime": {
     "end_time": "2025-03-22T18:54:25.502250Z",
     "start_time": "2025-03-22T18:54:25.494793Z"
    }
   },
   "cell_type": "code",
   "source": [
    "#using arrange function\n",
    "\n",
    "# arange is an array-valued version of the built-in Python range function\n",
    "\n",
    "a = np.arange(10) # 0.... n-1\n",
    "a"
   ],
   "id": "3c1ab0b7b5d14c32",
   "outputs": [
    {
     "data": {
      "text/plain": [
       "array([0, 1, 2, 3, 4, 5, 6, 7, 8, 9])"
      ]
     },
     "execution_count": 16,
     "metadata": {},
     "output_type": "execute_result"
    }
   ],
   "execution_count": 16
  },
  {
   "metadata": {
    "ExecuteTime": {
     "end_time": "2025-03-22T18:54:37.325016Z",
     "start_time": "2025-03-22T18:54:37.317691Z"
    }
   },
   "cell_type": "code",
   "source": [
    "b = np.arange(1, 10, 2) #start, end (exclusive), step\n",
    "\n",
    "b"
   ],
   "id": "2afd56659f9a79f2",
   "outputs": [
    {
     "data": {
      "text/plain": [
       "array([1, 3, 5, 7, 9])"
      ]
     },
     "execution_count": 17,
     "metadata": {},
     "output_type": "execute_result"
    }
   ],
   "execution_count": 17
  },
  {
   "metadata": {
    "ExecuteTime": {
     "end_time": "2025-03-22T18:54:47.427066Z",
     "start_time": "2025-03-22T18:54:47.412637Z"
    }
   },
   "cell_type": "code",
   "source": [
    "#using linspace\n",
    "\n",
    "a = np.linspace(0, 1, 6) #start, end, number of points\n",
    "\n",
    "a"
   ],
   "id": "8f3c8fd5169cf57e",
   "outputs": [
    {
     "data": {
      "text/plain": [
       "array([0. , 0.2, 0.4, 0.6, 0.8, 1. ])"
      ]
     },
     "execution_count": 18,
     "metadata": {},
     "output_type": "execute_result"
    }
   ],
   "execution_count": 18
  },
  {
   "metadata": {
    "ExecuteTime": {
     "end_time": "2025-03-22T18:54:59.983812Z",
     "start_time": "2025-03-22T18:54:59.975645Z"
    }
   },
   "cell_type": "code",
   "source": [
    "#common arrays\n",
    "\n",
    "a = np.ones((3, 3))\n",
    "\n",
    "a"
   ],
   "id": "cbf68d18ea2f5844",
   "outputs": [
    {
     "data": {
      "text/plain": [
       "array([[1., 1., 1.],\n",
       "       [1., 1., 1.],\n",
       "       [1., 1., 1.]])"
      ]
     },
     "execution_count": 19,
     "metadata": {},
     "output_type": "execute_result"
    }
   ],
   "execution_count": 19
  },
  {
   "metadata": {
    "ExecuteTime": {
     "end_time": "2025-03-22T18:55:18.369524Z",
     "start_time": "2025-03-22T18:55:18.363057Z"
    }
   },
   "cell_type": "code",
   "source": [
    "b = np.zeros((3, 3))\n",
    "\n",
    "b"
   ],
   "id": "8d52e573aa45c8cf",
   "outputs": [
    {
     "data": {
      "text/plain": [
       "array([[0., 0., 0.],\n",
       "       [0., 0., 0.],\n",
       "       [0., 0., 0.]])"
      ]
     },
     "execution_count": 20,
     "metadata": {},
     "output_type": "execute_result"
    }
   ],
   "execution_count": 20
  },
  {
   "metadata": {
    "ExecuteTime": {
     "end_time": "2025-03-22T18:55:29.992632Z",
     "start_time": "2025-03-22T18:55:29.985941Z"
    }
   },
   "cell_type": "code",
   "source": [
    "c = np.eye(3)  #Return a 2-D array with ones on the diagonal and zeros elsewhere.\n",
    "\n",
    "c"
   ],
   "id": "421b42b218fda2b0",
   "outputs": [
    {
     "data": {
      "text/plain": [
       "array([[1., 0., 0.],\n",
       "       [0., 1., 0.],\n",
       "       [0., 0., 1.]])"
      ]
     },
     "execution_count": 21,
     "metadata": {},
     "output_type": "execute_result"
    }
   ],
   "execution_count": 21
  },
  {
   "metadata": {
    "ExecuteTime": {
     "end_time": "2025-03-22T18:55:46.010358Z",
     "start_time": "2025-03-22T18:55:46.002774Z"
    }
   },
   "cell_type": "code",
   "source": [
    "d = np.eye(3, 2) #3 is number of rows, 2 is number of columns, index of diagonal start with 0\n",
    "\n",
    "d"
   ],
   "id": "37a08e656b580bf3",
   "outputs": [
    {
     "data": {
      "text/plain": [
       "array([[1., 0.],\n",
       "       [0., 1.],\n",
       "       [0., 0.]])"
      ]
     },
     "execution_count": 22,
     "metadata": {},
     "output_type": "execute_result"
    }
   ],
   "execution_count": 22
  },
  {
   "metadata": {
    "ExecuteTime": {
     "end_time": "2025-03-22T18:55:57.789363Z",
     "start_time": "2025-03-22T18:55:57.781839Z"
    }
   },
   "cell_type": "code",
   "source": [
    "#create array using diag function\n",
    "\n",
    "a = np.diag([1, 2, 3, 4]) #construct a diagonal array.\n",
    "\n",
    "a"
   ],
   "id": "23bff1cd8aefe80e",
   "outputs": [
    {
     "data": {
      "text/plain": [
       "array([[1, 0, 0, 0],\n",
       "       [0, 2, 0, 0],\n",
       "       [0, 0, 3, 0],\n",
       "       [0, 0, 0, 4]])"
      ]
     },
     "execution_count": 23,
     "metadata": {},
     "output_type": "execute_result"
    }
   ],
   "execution_count": 23
  },
  {
   "metadata": {
    "ExecuteTime": {
     "end_time": "2025-03-22T18:56:14.943773Z",
     "start_time": "2025-03-22T18:56:14.936616Z"
    }
   },
   "cell_type": "code",
   "source": "np.diag(a)   #Extract diagonal",
   "id": "e1847ff688ab6a03",
   "outputs": [
    {
     "data": {
      "text/plain": [
       "array([1, 2, 3, 4])"
      ]
     },
     "execution_count": 24,
     "metadata": {},
     "output_type": "execute_result"
    }
   ],
   "execution_count": 24
  },
  {
   "metadata": {
    "ExecuteTime": {
     "end_time": "2025-03-22T18:56:24.614396Z",
     "start_time": "2025-03-22T18:56:24.606713Z"
    }
   },
   "cell_type": "code",
   "source": [
    "#create array using random\n",
    "\n",
    "#Create an array of the given shape and populate it with random samples from a uniform distribution over [0, 1).\n",
    "a = np.random.rand(4) \n",
    "\n",
    "a"
   ],
   "id": "22183f930470e58d",
   "outputs": [
    {
     "data": {
      "text/plain": [
       "array([0.3662046 , 0.60289603, 0.07817528, 0.4541661 ])"
      ]
     },
     "execution_count": 25,
     "metadata": {},
     "output_type": "execute_result"
    }
   ],
   "execution_count": 25
  },
  {
   "metadata": {
    "ExecuteTime": {
     "end_time": "2025-03-22T18:56:34.206813Z",
     "start_time": "2025-03-22T18:56:34.199604Z"
    }
   },
   "cell_type": "code",
   "source": [
    "a = np.random.randn(4)#Return a sample (or samples) from the “standard normal” distribution.  ***Gaussian***\n",
    "\n",
    "a"
   ],
   "id": "f9d26b2d4faee4fe",
   "outputs": [
    {
     "data": {
      "text/plain": [
       "array([-0.48921781,  0.48594519,  0.1819405 ,  0.14038517])"
      ]
     },
     "execution_count": 26,
     "metadata": {},
     "output_type": "execute_result"
    }
   ],
   "execution_count": 26
  },
  {
   "metadata": {},
   "cell_type": "markdown",
   "source": [
    "**Note:**\n",
    "    \n",
    "For random samples from N(\\mu, \\sigma^2), use:\n",
    "\n",
    "sigma * np.random.randn(...) + mu"
   ],
   "id": "8d07994d481b58a4"
  },
  {
   "metadata": {
    "ExecuteTime": {
     "end_time": "2025-03-27T07:47:13.568908Z",
     "start_time": "2025-03-27T07:47:13.562576Z"
    }
   },
   "cell_type": "code",
   "source": [
    "numbers = np.random.randint(1,51,size=6)\n",
    "unique_6_numbers=list(set(numbers))\n",
    "print(unique_6_numbers)"
   ],
   "id": "51fb080fc96ced71",
   "outputs": [
    {
     "name": "stdout",
     "output_type": "stream",
     "text": [
      "[35, 36, 12, 45, 14, 17]\n"
     ]
    }
   ],
   "execution_count": 3
  },
  {
   "metadata": {},
   "cell_type": "markdown",
   "source": "# 2. Basic DataTypes",
   "id": "ed47ca040ca9ec7e"
  },
  {
   "metadata": {},
   "cell_type": "markdown",
   "source": "You may have noticed that, in some instances, array elements are displayed with a **trailing dot (e.g. 2. vs 2)**. This is due to a difference in the **data-type** used:",
   "id": "8ec93d679d22f2ec"
  },
  {
   "metadata": {
    "ExecuteTime": {
     "end_time": "2025-03-22T19:02:40.547554Z",
     "start_time": "2025-03-22T19:02:40.540153Z"
    }
   },
   "cell_type": "code",
   "source": [
    "a = np.arange(10)\n",
    "\n",
    "a.dtype"
   ],
   "id": "c15c3e9f0e8c1c1f",
   "outputs": [
    {
     "data": {
      "text/plain": [
       "dtype('int32')"
      ]
     },
     "execution_count": 27,
     "metadata": {},
     "output_type": "execute_result"
    }
   ],
   "execution_count": 27
  },
  {
   "metadata": {
    "ExecuteTime": {
     "end_time": "2025-03-22T19:02:56.277639Z",
     "start_time": "2025-03-22T19:02:56.270078Z"
    }
   },
   "cell_type": "code",
   "source": [
    "#You can explicitly specify which data-type you want:\n",
    "\n",
    "a = np.arange(10, dtype='float64')\n",
    "a"
   ],
   "id": "bce99f895a6fb96",
   "outputs": [
    {
     "data": {
      "text/plain": [
       "array([0., 1., 2., 3., 4., 5., 6., 7., 8., 9.])"
      ]
     },
     "execution_count": 28,
     "metadata": {},
     "output_type": "execute_result"
    }
   ],
   "execution_count": 28
  },
  {
   "metadata": {
    "ExecuteTime": {
     "end_time": "2025-03-22T19:03:09.012036Z",
     "start_time": "2025-03-22T19:03:09.004306Z"
    }
   },
   "cell_type": "code",
   "source": [
    "#The default data type is float for zeros and ones function\n",
    "\n",
    "a = np.zeros((3, 3))\n",
    "\n",
    "print(a)\n",
    "\n",
    "a.dtype"
   ],
   "id": "7e96d806e58a5e59",
   "outputs": [
    {
     "name": "stdout",
     "output_type": "stream",
     "text": [
      "[[0. 0. 0.]\n",
      " [0. 0. 0.]\n",
      " [0. 0. 0.]]\n"
     ]
    },
    {
     "data": {
      "text/plain": [
       "dtype('float64')"
      ]
     },
     "execution_count": 29,
     "metadata": {},
     "output_type": "execute_result"
    }
   ],
   "execution_count": 29
  },
  {
   "metadata": {},
   "cell_type": "markdown",
   "source": "**other datatypes**",
   "id": "f3281be83a2c81f"
  },
  {
   "metadata": {
    "ExecuteTime": {
     "end_time": "2025-03-22T19:04:38.278670Z",
     "start_time": "2025-03-22T19:04:38.272834Z"
    }
   },
   "cell_type": "code",
   "source": [
    "d = np.array([1+2j, 2+4j])   #Complex datatype\n",
    "\n",
    "print(d.dtype)"
   ],
   "id": "d26ac1b8ff3d9ae0",
   "outputs": [
    {
     "name": "stdout",
     "output_type": "stream",
     "text": [
      "complex128\n"
     ]
    }
   ],
   "execution_count": 30
  },
  {
   "metadata": {
    "ExecuteTime": {
     "end_time": "2025-03-22T19:04:43.019586Z",
     "start_time": "2025-03-22T19:04:43.014007Z"
    }
   },
   "cell_type": "code",
   "source": [
    "b = np.array([True, False, True, False])  #Boolean datatype\n",
    "\n",
    "print(b.dtype)"
   ],
   "id": "31c3198d287fd4a3",
   "outputs": [
    {
     "name": "stdout",
     "output_type": "stream",
     "text": [
      "bool\n"
     ]
    }
   ],
   "execution_count": 31
  },
  {
   "metadata": {
    "ExecuteTime": {
     "end_time": "2025-03-22T19:04:54.832386Z",
     "start_time": "2025-03-22T19:04:54.824870Z"
    }
   },
   "cell_type": "code",
   "source": [
    "s = np.array(['Ram', 'Robert', 'Rahim'])\n",
    "\n",
    "s.dtype"
   ],
   "id": "6b582332c1a525f8",
   "outputs": [
    {
     "data": {
      "text/plain": [
       "dtype('<U6')"
      ]
     },
     "execution_count": 32,
     "metadata": {},
     "output_type": "execute_result"
    }
   ],
   "execution_count": 32
  },
  {
   "metadata": {},
   "cell_type": "markdown",
   "source": [
    "**Each built-in data type has a character code that uniquely identifies it.**\n",
    "\n",
    "'b' − boolean\n",
    "\n",
    "'i' − (signed) integer\n",
    "\n",
    "'u' − unsigned integer\n",
    "\n",
    "'f' − floating-point\n",
    "\n",
    "'c' − complex-floating point\n",
    "\n",
    "'m' − timedelta\n",
    "\n",
    "'M' − datetime\n",
    "\n",
    "'O' − (Python) objects\n",
    "\n",
    "'S', 'a' − (byte-)string\n",
    "\n",
    "'U' − Unicode\n",
    "\n",
    "'V' − raw data (void)"
   ],
   "id": "714bf82685bdac57"
  },
  {
   "metadata": {},
   "cell_type": "markdown",
   "source": "# 3. Indexing and Slicing",
   "id": "9304e23e8f1857eb"
  },
  {
   "metadata": {},
   "cell_type": "markdown",
   "source": "**3.1 Indexing**",
   "id": "7e2d8b35d0aa7aa9"
  },
  {
   "metadata": {},
   "cell_type": "markdown",
   "source": "The items of an array can be accessed and assigned to the same way as other **Python sequences (e.g. lists)**:",
   "id": "fcf00f90516d741c"
  },
  {
   "metadata": {
    "ExecuteTime": {
     "end_time": "2025-03-22T19:09:24.911534Z",
     "start_time": "2025-03-22T19:09:24.905610Z"
    }
   },
   "cell_type": "code",
   "source": [
    "a = np.arange(10)\n",
    "\n",
    "print(a[5])  #indices begin at 0, like other Python sequences (and C/C++)"
   ],
   "id": "414ac45d43b11519",
   "outputs": [
    {
     "name": "stdout",
     "output_type": "stream",
     "text": [
      "5\n"
     ]
    }
   ],
   "execution_count": 33
  },
  {
   "metadata": {
    "ExecuteTime": {
     "end_time": "2025-03-22T19:09:34.914276Z",
     "start_time": "2025-03-22T19:09:34.908321Z"
    }
   },
   "cell_type": "code",
   "source": [
    "# For multidimensional arrays, indexes are tuples of integers:\n",
    "\n",
    "a = np.diag([1, 2, 3])\n",
    "\n",
    "print(a[2, 2])"
   ],
   "id": "ab436d0d7eba3aef",
   "outputs": [
    {
     "name": "stdout",
     "output_type": "stream",
     "text": [
      "3\n"
     ]
    }
   ],
   "execution_count": 34
  },
  {
   "metadata": {
    "ExecuteTime": {
     "end_time": "2025-03-22T19:09:47.876989Z",
     "start_time": "2025-03-22T19:09:47.870397Z"
    }
   },
   "cell_type": "code",
   "source": [
    "a[2, 1] = 5 #assigning value\n",
    "\n",
    "a"
   ],
   "id": "61b6e2ed55ab5d98",
   "outputs": [
    {
     "data": {
      "text/plain": [
       "array([[1, 0, 0],\n",
       "       [0, 2, 0],\n",
       "       [0, 5, 3]])"
      ]
     },
     "execution_count": 35,
     "metadata": {},
     "output_type": "execute_result"
    }
   ],
   "execution_count": 35
  },
  {
   "metadata": {},
   "cell_type": "markdown",
   "source": "**3.2 Slicing**",
   "id": "b1e6a4559332bb69"
  },
  {
   "metadata": {
    "ExecuteTime": {
     "end_time": "2025-03-22T19:11:48.542935Z",
     "start_time": "2025-03-22T19:11:48.537196Z"
    }
   },
   "cell_type": "code",
   "source": [
    "a = np.arange(10)\n",
    "\n",
    "a"
   ],
   "id": "c90fa53498045299",
   "outputs": [
    {
     "data": {
      "text/plain": [
       "array([0, 1, 2, 3, 4, 5, 6, 7, 8, 9])"
      ]
     },
     "execution_count": 36,
     "metadata": {},
     "output_type": "execute_result"
    }
   ],
   "execution_count": 36
  },
  {
   "metadata": {
    "ExecuteTime": {
     "end_time": "2025-03-22T19:12:03.421502Z",
     "start_time": "2025-03-22T19:12:03.415559Z"
    }
   },
   "cell_type": "code",
   "source": "a[1:8:2] # [startindex: endindex(exclusive) : step]",
   "id": "7eb437d8bfa84ff5",
   "outputs": [
    {
     "data": {
      "text/plain": [
       "array([1, 3, 5, 7])"
      ]
     },
     "execution_count": 37,
     "metadata": {},
     "output_type": "execute_result"
    }
   ],
   "execution_count": 37
  },
  {
   "metadata": {
    "ExecuteTime": {
     "end_time": "2025-03-22T19:12:14.197868Z",
     "start_time": "2025-03-22T19:12:14.192047Z"
    }
   },
   "cell_type": "code",
   "source": [
    "#we can also combine assignment and slicing:\n",
    "\n",
    "a = np.arange(10)\n",
    "a[5:] = 10\n",
    "a"
   ],
   "id": "1cfe1d65c8d0f72d",
   "outputs": [
    {
     "data": {
      "text/plain": [
       "array([ 0,  1,  2,  3,  4, 10, 10, 10, 10, 10])"
      ]
     },
     "execution_count": 38,
     "metadata": {},
     "output_type": "execute_result"
    }
   ],
   "execution_count": 38
  },
  {
   "metadata": {
    "ExecuteTime": {
     "end_time": "2025-03-22T19:12:25.908720Z",
     "start_time": "2025-03-22T19:12:25.901760Z"
    }
   },
   "cell_type": "code",
   "source": [
    "b = np.arange(5)\n",
    "a[5:] = b[::-1]  #assigning\n",
    "\n",
    "a"
   ],
   "id": "5e326c2dd173c8a4",
   "outputs": [
    {
     "data": {
      "text/plain": [
       "array([0, 1, 2, 3, 4, 4, 3, 2, 1, 0])"
      ]
     },
     "execution_count": 39,
     "metadata": {},
     "output_type": "execute_result"
    }
   ],
   "execution_count": 39
  },
  {
   "metadata": {},
   "cell_type": "markdown",
   "source": "# 4. Copies and Views",
   "id": "90d84bf9b6918fb3"
  },
  {
   "metadata": {},
   "cell_type": "markdown",
   "source": "A slicing operation creates a view on the original array, which is just a way of accessing array data. Thus the original array is not copied in memory. You can use np.may_share_memory() to check if two arrays share the same memory block.",
   "id": "9a00352e223d0bb7"
  },
  {
   "metadata": {},
   "cell_type": "markdown",
   "source": "**When modifying the view, the original array is modified as well:**",
   "id": "724a7307dc5538c9"
  },
  {
   "metadata": {
    "ExecuteTime": {
     "end_time": "2025-03-22T19:13:35.952057Z",
     "start_time": "2025-03-22T19:13:35.945709Z"
    }
   },
   "cell_type": "code",
   "source": [
    "a = np.arange(10)\n",
    "a"
   ],
   "id": "4ba28702971ce777",
   "outputs": [
    {
     "data": {
      "text/plain": [
       "array([0, 1, 2, 3, 4, 5, 6, 7, 8, 9])"
      ]
     },
     "execution_count": 40,
     "metadata": {},
     "output_type": "execute_result"
    }
   ],
   "execution_count": 40
  },
  {
   "metadata": {
    "ExecuteTime": {
     "end_time": "2025-03-22T19:13:45.329759Z",
     "start_time": "2025-03-22T19:13:45.322561Z"
    }
   },
   "cell_type": "code",
   "source": [
    "b = a[::2]\n",
    "b"
   ],
   "id": "25febbccf5be19f6",
   "outputs": [
    {
     "data": {
      "text/plain": [
       "array([0, 2, 4, 6, 8])"
      ]
     },
     "execution_count": 41,
     "metadata": {},
     "output_type": "execute_result"
    }
   ],
   "execution_count": 41
  },
  {
   "metadata": {
    "ExecuteTime": {
     "end_time": "2025-03-22T19:13:56.169161Z",
     "start_time": "2025-03-22T19:13:56.162309Z"
    }
   },
   "cell_type": "code",
   "source": "np.shares_memory(a, b)",
   "id": "2cb54253cfc065e6",
   "outputs": [
    {
     "data": {
      "text/plain": [
       "True"
      ]
     },
     "execution_count": 42,
     "metadata": {},
     "output_type": "execute_result"
    }
   ],
   "execution_count": 42
  },
  {
   "metadata": {
    "ExecuteTime": {
     "end_time": "2025-03-22T19:14:06.752109Z",
     "start_time": "2025-03-22T19:14:06.745443Z"
    }
   },
   "cell_type": "code",
   "source": [
    "b[0] = 10\n",
    "b"
   ],
   "id": "95a824657b2ae73e",
   "outputs": [
    {
     "data": {
      "text/plain": [
       "array([10,  2,  4,  6,  8])"
      ]
     },
     "execution_count": 43,
     "metadata": {},
     "output_type": "execute_result"
    }
   ],
   "execution_count": 43
  },
  {
   "metadata": {
    "ExecuteTime": {
     "end_time": "2025-03-22T19:14:23.459970Z",
     "start_time": "2025-03-22T19:14:23.452023Z"
    }
   },
   "cell_type": "code",
   "source": "a  #eventhough we modified b,  it updated 'a' because both shares same memory",
   "id": "a76f2291bf1c6312",
   "outputs": [
    {
     "data": {
      "text/plain": [
       "array([10,  1,  2,  3,  4,  5,  6,  7,  8,  9])"
      ]
     },
     "execution_count": 44,
     "metadata": {},
     "output_type": "execute_result"
    }
   ],
   "execution_count": 44
  },
  {
   "metadata": {
    "ExecuteTime": {
     "end_time": "2025-03-22T19:14:39.803705Z",
     "start_time": "2025-03-22T19:14:39.797218Z"
    }
   },
   "cell_type": "code",
   "source": [
    "a = np.arange(10)\n",
    "\n",
    "c = a[::2].copy()     #force a copy\n",
    "c"
   ],
   "id": "a657d9910a4cbdb8",
   "outputs": [
    {
     "data": {
      "text/plain": [
       "array([0, 2, 4, 6, 8])"
      ]
     },
     "execution_count": 45,
     "metadata": {},
     "output_type": "execute_result"
    }
   ],
   "execution_count": 45
  },
  {
   "metadata": {
    "ExecuteTime": {
     "end_time": "2025-03-22T19:14:50.140269Z",
     "start_time": "2025-03-22T19:14:50.134895Z"
    }
   },
   "cell_type": "code",
   "source": "np.shares_memory(a, c)",
   "id": "df1659f14d54de8b",
   "outputs": [
    {
     "data": {
      "text/plain": [
       "False"
      ]
     },
     "execution_count": 46,
     "metadata": {},
     "output_type": "execute_result"
    }
   ],
   "execution_count": 46
  },
  {
   "metadata": {
    "ExecuteTime": {
     "end_time": "2025-03-22T19:14:59.415575Z",
     "start_time": "2025-03-22T19:14:59.408953Z"
    }
   },
   "cell_type": "code",
   "source": [
    "c[0] = 10\n",
    "\n",
    "a"
   ],
   "id": "6597b65c813c3af",
   "outputs": [
    {
     "data": {
      "text/plain": [
       "array([0, 1, 2, 3, 4, 5, 6, 7, 8, 9])"
      ]
     },
     "execution_count": 47,
     "metadata": {},
     "output_type": "execute_result"
    }
   ],
   "execution_count": 47
  },
  {
   "metadata": {},
   "cell_type": "markdown",
   "source": "# 5. Fancy Indexing",
   "id": "be9fdaf90b3a82e3"
  },
  {
   "metadata": {},
   "cell_type": "markdown",
   "source": "NumPy arrays can be indexed with slices, but also with boolean or integer arrays **(masks)**. This method is called **fancy indexing**. It creates copies not views.",
   "id": "2d1b34273ba66848"
  },
  {
   "metadata": {},
   "cell_type": "markdown",
   "source": "**Using Boolean Mask**",
   "id": "31369e5d05e4ecd3"
  },
  {
   "metadata": {
    "ExecuteTime": {
     "end_time": "2025-03-22T19:16:25.276391Z",
     "start_time": "2025-03-22T19:16:25.268559Z"
    }
   },
   "cell_type": "code",
   "source": [
    "a = np.random.randint(0, 20, 15)\n",
    "a"
   ],
   "id": "141a5fb81c84a044",
   "outputs": [
    {
     "data": {
      "text/plain": [
       "array([12,  1,  1,  2, 13,  1,  2,  1,  3, 16,  9,  1,  2, 19,  6])"
      ]
     },
     "execution_count": 48,
     "metadata": {},
     "output_type": "execute_result"
    }
   ],
   "execution_count": 48
  },
  {
   "metadata": {
    "ExecuteTime": {
     "end_time": "2025-03-22T19:16:35.183596Z",
     "start_time": "2025-03-22T19:16:35.177784Z"
    }
   },
   "cell_type": "code",
   "source": "mask = (a % 2 == 0)",
   "id": "3b70263206ad467f",
   "outputs": [],
   "execution_count": 49
  },
  {
   "metadata": {
    "ExecuteTime": {
     "end_time": "2025-03-22T19:16:44.896218Z",
     "start_time": "2025-03-22T19:16:44.890364Z"
    }
   },
   "cell_type": "code",
   "source": [
    "extract_from_a = a[mask]\n",
    "\n",
    "extract_from_a"
   ],
   "id": "a91fbbdc1d7afdcf",
   "outputs": [
    {
     "data": {
      "text/plain": [
       "array([12,  2,  2, 16,  2,  6])"
      ]
     },
     "execution_count": 50,
     "metadata": {},
     "output_type": "execute_result"
    }
   ],
   "execution_count": 50
  },
  {
   "metadata": {},
   "cell_type": "markdown",
   "source": "**Indexing with a mask can be very useful to assign a new value to a sub-array:**",
   "id": "468e4aec958ccbc8"
  },
  {
   "metadata": {
    "ExecuteTime": {
     "end_time": "2025-03-22T19:18:10.327096Z",
     "start_time": "2025-03-22T19:18:10.320232Z"
    }
   },
   "cell_type": "code",
   "source": [
    "a[mask] = 0\n",
    "a"
   ],
   "id": "6976b8b60adfd5f4",
   "outputs": [
    {
     "data": {
      "text/plain": [
       "array([ 0,  1,  1,  0, 13,  1,  0,  1,  3,  0,  9,  1,  0, 19,  0])"
      ]
     },
     "execution_count": 52,
     "metadata": {},
     "output_type": "execute_result"
    }
   ],
   "execution_count": 52
  },
  {
   "metadata": {},
   "cell_type": "markdown",
   "source": "**Indexing with an array of integers**",
   "id": "7c05ccfb8a048e7b"
  },
  {
   "metadata": {
    "ExecuteTime": {
     "end_time": "2025-03-22T19:18:59.676180Z",
     "start_time": "2025-03-22T19:18:59.669520Z"
    }
   },
   "cell_type": "code",
   "source": [
    "a = np.arange(0, 100, 10)\n",
    "\n",
    "a"
   ],
   "id": "5bd0093cf5d83045",
   "outputs": [
    {
     "data": {
      "text/plain": [
       "array([ 0, 10, 20, 30, 40, 50, 60, 70, 80, 90])"
      ]
     },
     "execution_count": 53,
     "metadata": {},
     "output_type": "execute_result"
    }
   ],
   "execution_count": 53
  },
  {
   "metadata": {
    "ExecuteTime": {
     "end_time": "2025-03-22T19:19:11.838263Z",
     "start_time": "2025-03-22T19:19:11.829703Z"
    }
   },
   "cell_type": "code",
   "source": [
    "#Indexing can be done with an array of integers, where the same index is repeated several time:\n",
    "\n",
    "a[[2, 3, 2, 4, 2]]"
   ],
   "id": "120762d73ba48c2d",
   "outputs": [
    {
     "data": {
      "text/plain": [
       "array([20, 30, 20, 40, 20])"
      ]
     },
     "execution_count": 54,
     "metadata": {},
     "output_type": "execute_result"
    }
   ],
   "execution_count": 54
  },
  {
   "metadata": {
    "ExecuteTime": {
     "end_time": "2025-03-22T19:20:19.140334Z",
     "start_time": "2025-03-22T19:20:19.133906Z"
    }
   },
   "cell_type": "code",
   "source": [
    "# New values can be assigned \n",
    "\n",
    "a[[9, 7]] = -200\n",
    "\n",
    "a"
   ],
   "id": "7cdb500f5e5e8b4e",
   "outputs": [
    {
     "data": {
      "text/plain": [
       "array([   0,   10,   20,   30,   40,   50,   60, -200,   80, -200])"
      ]
     },
     "execution_count": 55,
     "metadata": {},
     "output_type": "execute_result"
    }
   ],
   "execution_count": 55
  },
  {
   "metadata": {},
   "cell_type": "code",
   "outputs": [],
   "execution_count": null,
   "source": "",
   "id": "ff6a36acd45383c6"
  }
 ],
 "metadata": {
  "kernelspec": {
   "display_name": "Python 3",
   "language": "python",
   "name": "python3"
  },
  "language_info": {
   "codemirror_mode": {
    "name": "ipython",
    "version": 2
   },
   "file_extension": ".py",
   "mimetype": "text/x-python",
   "name": "python",
   "nbconvert_exporter": "python",
   "pygments_lexer": "ipython2",
   "version": "2.7.6"
  }
 },
 "nbformat": 4,
 "nbformat_minor": 5
}
